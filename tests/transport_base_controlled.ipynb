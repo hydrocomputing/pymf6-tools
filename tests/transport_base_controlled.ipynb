{
 "cells": [
  {
   "cell_type": "code",
   "execution_count": 1,
   "id": "a3bb2016-d24d-43fb-bcf9-39fd447d10cb",
   "metadata": {},
   "outputs": [],
   "source": [
    "%load_ext autoreload"
   ]
  },
  {
   "cell_type": "code",
   "execution_count": 2,
   "id": "27711f9f-f4fa-4cfc-ad1a-c02e7e368418",
   "metadata": {
    "tags": []
   },
   "outputs": [],
   "source": [
    "%autoreload 2"
   ]
  },
  {
   "cell_type": "code",
   "execution_count": 3,
   "id": "df201042-e521-4327-a94b-246ce7199d53",
   "metadata": {
    "tags": []
   },
   "outputs": [],
   "source": [
    "from pymf6tools.make_model import run_simulation"
   ]
  },
  {
   "cell_type": "code",
   "execution_count": 4,
   "id": "349fc5fb-e54c-4134-bf17-ae8164b52f52",
   "metadata": {
    "tags": []
   },
   "outputs": [
    {
     "ename": "ImportError",
     "evalue": "cannot import name 'show_bot_elevations' from 'pymf6tools.plotting' (C:\\TUBAF\\MODSIMPLE2\\pymf6tools\\src\\pymf6tools\\plotting.py)",
     "output_type": "error",
     "traceback": [
      "\u001b[1;31m---------------------------------------------------------------------------\u001b[0m",
      "\u001b[1;31mImportError\u001b[0m                               Traceback (most recent call last)",
      "Cell \u001b[1;32mIn[4], line 1\u001b[0m\n\u001b[1;32m----> 1\u001b[0m \u001b[38;5;28;01mfrom\u001b[39;00m \u001b[38;5;21;01mpymf6tools\u001b[39;00m\u001b[38;5;21;01m.\u001b[39;00m\u001b[38;5;21;01mplotting\u001b[39;00m \u001b[38;5;28;01mimport\u001b[39;00m show_heads, show_well_head, show_concentration, show_bcs, show_bot_elevations\n",
      "\u001b[1;31mImportError\u001b[0m: cannot import name 'show_bot_elevations' from 'pymf6tools.plotting' (C:\\TUBAF\\MODSIMPLE2\\pymf6tools\\src\\pymf6tools\\plotting.py)"
     ]
    }
   ],
   "source": [
    "from pymf6tools.plotting import show_heads, show_well_head, show_concentration, show_bcs, show_bot_elevations"
   ]
  },
  {
   "cell_type": "code",
   "execution_count": null,
   "id": "fc79bc0a-6e7a-4b4d-973c-674643f1fc2c",
   "metadata": {
    "tags": []
   },
   "outputs": [],
   "source": [
    "from pymf6tools.base_model import BASE_MODEL_DATA, BASE_TRANSPORT_MODEL_DATA, BASE_WELL_MODEL_DATA"
   ]
  },
  {
   "cell_type": "code",
   "execution_count": null,
   "id": "607766f1-a230-449f-a784-39c1541b329a",
   "metadata": {
    "tags": []
   },
   "outputs": [],
   "source": [
    "#set model path \n",
    "model_path = r'C:\\TUBAF\\MODSIMPLE2\\pymf6tools\\tests\\models\\transport_base_controlled'\n",
    "model_name = 'transbase'\n",
    "#well_coords = BASE_WELL_MODEL_DATA['wells']['coords']"
   ]
  },
  {
   "cell_type": "code",
   "execution_count": null,
   "id": "0fe82fb8-bb10-48f6-b88b-76539260f1d3",
   "metadata": {
    "tags": []
   },
   "outputs": [],
   "source": [
    "run_simulation(model_path)"
   ]
  },
  {
   "cell_type": "code",
   "execution_count": null,
   "id": "8c39bf30-8739-4115-8999-882772ce8671",
   "metadata": {
    "tags": []
   },
   "outputs": [],
   "source": [
    "show_bcs(model_path, model_name, bc_names=('chd', 'wel'), show_grid=True)"
   ]
  },
  {
   "cell_type": "code",
   "execution_count": null,
   "id": "64edcb8b-492a-44dc-8169-3a6595fa0546",
   "metadata": {
    "tags": []
   },
   "outputs": [],
   "source": [
    "show_heads(model_path, model_name, show_wells=False)"
   ]
  },
  {
   "cell_type": "code",
   "execution_count": null,
   "id": "5981ca75-2185-4942-8242-c09c02653a8f",
   "metadata": {
    "tags": []
   },
   "outputs": [],
   "source": [
    "show_well_head?"
   ]
  },
  {
   "cell_type": "code",
   "execution_count": null,
   "id": "9d4d7684-f728-4e9d-a748-5f676d688902",
   "metadata": {
    "tags": []
   },
   "outputs": [],
   "source": [
    "show_well_head(wel_coords=BASE, model_data=model_data)"
   ]
  },
  {
   "cell_type": "code",
   "execution_count": null,
   "id": "8081fe7a-35d1-4f1c-8b0a-8a5579965295",
   "metadata": {},
   "outputs": [],
   "source": []
  }
 ],
 "metadata": {
  "kernelspec": {
   "display_name": "Python 3 (ipykernel)",
   "language": "python",
   "name": "python3"
  },
  "language_info": {
   "codemirror_mode": {
    "name": "ipython",
    "version": 3
   },
   "file_extension": ".py",
   "mimetype": "text/x-python",
   "name": "python",
   "nbconvert_exporter": "python",
   "pygments_lexer": "ipython3",
   "version": "3.11.4"
  }
 },
 "nbformat": 4,
 "nbformat_minor": 5
}
