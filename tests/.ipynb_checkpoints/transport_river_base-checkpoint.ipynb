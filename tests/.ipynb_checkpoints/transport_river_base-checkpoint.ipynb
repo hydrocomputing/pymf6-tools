{
 "cells": [
  {
   "cell_type": "code",
   "execution_count": 45,
   "id": "482a74f0-385b-495d-92f6-9d5b368374d9",
   "metadata": {
    "tags": []
   },
   "outputs": [
    {
     "name": "stdout",
     "output_type": "stream",
     "text": [
      "The autoreload extension is already loaded. To reload it, use:\n",
      "  %reload_ext autoreload\n"
     ]
    }
   ],
   "source": [
    "%load_ext autoreload"
   ]
  },
  {
   "cell_type": "code",
   "execution_count": 46,
   "id": "9a97cf56-15fc-4af5-97b0-309d1744f41d",
   "metadata": {
    "tags": []
   },
   "outputs": [],
   "source": [
    "%autoreload 2"
   ]
  },
  {
   "cell_type": "code",
   "execution_count": 47,
   "id": "8468b7e2-11aa-42d4-b513-a79078d12b1c",
   "metadata": {},
   "outputs": [],
   "source": [
    "from pymf6tools.make_model import run_simulation"
   ]
  },
  {
   "cell_type": "code",
   "execution_count": 48,
   "id": "3e931716-42e0-413f-92e3-33c9c8dbd505",
   "metadata": {
    "tags": []
   },
   "outputs": [],
   "source": [
    "from pymf6tools.plotting import show_heads, show_well_head, show_concentration, show_bcs"
   ]
  },
  {
   "cell_type": "code",
   "execution_count": 49,
   "id": "0b865120-0329-4a36-8be7-60171efff881",
   "metadata": {},
   "outputs": [],
   "source": [
    "model_path = r'C:\\TUBAF\\MODSIMPLE2\\pymf6tools\\tests\\models\\river_base'"
   ]
  },
  {
   "cell_type": "code",
   "execution_count": 50,
   "id": "1bfa1db4-7c63-4a16-a8b3-116b8f37b9b3",
   "metadata": {
    "tags": []
   },
   "outputs": [
    {
     "ename": "MFDataException",
     "evalue": "An error occurred in model \"riverbase\" package \"wel_0\". The error occurred while loading package file in the \"load\" method.\nAdditional Information:\n(1) File C:\\TUBAF\\MODSIMPLE2\\pymf6tools\\tests\\models\\river_base\\riverbase.wel of type wel could not be opened.",
     "output_type": "error",
     "traceback": [
      "\u001b[1;31m---------------------------------------------------------------------------\u001b[0m",
      "\u001b[1;31mFileNotFoundError\u001b[0m                         Traceback (most recent call last)",
      "File \u001b[1;32mC:\\TUBAF\\mambaforge\\envs\\pymf6\\lib\\site-packages\\flopy\\mf6\\mfpackage.py:2648\u001b[0m, in \u001b[0;36mMFPackage.load\u001b[1;34m(self, strict)\u001b[0m\n\u001b[0;32m   2647\u001b[0m \u001b[38;5;28;01mtry\u001b[39;00m:\n\u001b[1;32m-> 2648\u001b[0m     fd_input_file \u001b[38;5;241m=\u001b[39m \u001b[38;5;28;43mopen\u001b[39;49m\u001b[43m(\u001b[49m\n\u001b[0;32m   2649\u001b[0m \u001b[43m        \u001b[49m\u001b[43mdatautil\u001b[49m\u001b[38;5;241;43m.\u001b[39;49m\u001b[43mclean_filename\u001b[49m\u001b[43m(\u001b[49m\u001b[38;5;28;43mself\u001b[39;49m\u001b[38;5;241;43m.\u001b[39;49m\u001b[43mget_file_path\u001b[49m\u001b[43m(\u001b[49m\u001b[43m)\u001b[49m\u001b[43m)\u001b[49m\u001b[43m,\u001b[49m\u001b[43m \u001b[49m\u001b[38;5;124;43m\"\u001b[39;49m\u001b[38;5;124;43mr\u001b[39;49m\u001b[38;5;124;43m\"\u001b[39;49m\n\u001b[0;32m   2650\u001b[0m \u001b[43m    \u001b[49m\u001b[43m)\u001b[49m\n\u001b[0;32m   2651\u001b[0m \u001b[38;5;28;01mexcept\u001b[39;00m \u001b[38;5;167;01mOSError\u001b[39;00m \u001b[38;5;28;01mas\u001b[39;00m e:\n",
      "\u001b[1;31mFileNotFoundError\u001b[0m: [Errno 2] No such file or directory: 'C:\\\\TUBAF\\\\MODSIMPLE2\\\\pymf6tools\\\\tests\\\\models\\\\river_base\\\\riverbase.wel'",
      "\nDuring handling of the above exception, another exception occurred:\n",
      "\u001b[1;31mMFDataException\u001b[0m                           Traceback (most recent call last)",
      "Cell \u001b[1;32mIn[50], line 1\u001b[0m\n\u001b[1;32m----> 1\u001b[0m \u001b[43mrun_simulation\u001b[49m\u001b[43m(\u001b[49m\u001b[43mmodel_path\u001b[49m\u001b[43m)\u001b[49m\n",
      "File \u001b[1;32mC:\\TUBAF\\MODSIMPLE2\\pymf6tools\\src\\pymf6tools\\make_model.py:324\u001b[0m, in \u001b[0;36mrun_simulation\u001b[1;34m(model_path, verbosity_level)\u001b[0m\n\u001b[0;32m    322\u001b[0m \u001b[38;5;28;01mdef\u001b[39;00m \u001b[38;5;21mrun_simulation\u001b[39m(model_path, verbosity_level\u001b[38;5;241m=\u001b[39m\u001b[38;5;241m0\u001b[39m):\n\u001b[0;32m    323\u001b[0m \u001b[38;5;250m    \u001b[39m\u001b[38;5;124;03m\"\"\"Run a MODFLOW 6 model\"\"\"\u001b[39;00m\n\u001b[1;32m--> 324\u001b[0m     sim \u001b[38;5;241m=\u001b[39m \u001b[43mget_simulation\u001b[49m\u001b[43m(\u001b[49m\n\u001b[0;32m    325\u001b[0m \u001b[43m        \u001b[49m\u001b[43mmodel_path\u001b[49m\u001b[43m,\u001b[49m\n\u001b[0;32m    326\u001b[0m \u001b[43m        \u001b[49m\u001b[43mverbosity_level\u001b[49m\u001b[38;5;241;43m=\u001b[39;49m\u001b[43mverbosity_level\u001b[49m\u001b[43m)\u001b[49m\n\u001b[0;32m    327\u001b[0m     sim\u001b[38;5;241m.\u001b[39mrun_simulation()\n",
      "File \u001b[1;32mC:\\TUBAF\\MODSIMPLE2\\pymf6tools\\src\\pymf6tools\\make_model.py:314\u001b[0m, in \u001b[0;36mget_simulation\u001b[1;34m(model_path, exe_name, verbosity_level)\u001b[0m\n\u001b[0;32m    312\u001b[0m \u001b[38;5;250m\u001b[39m\u001b[38;5;124;03m\"\"\"Get simulation for a model.\"\"\"\u001b[39;00m\n\u001b[0;32m    313\u001b[0m exe_name \u001b[38;5;241m=\u001b[39m _get_mf6_exe(exe_name)\n\u001b[1;32m--> 314\u001b[0m sim \u001b[38;5;241m=\u001b[39m \u001b[43mflopy\u001b[49m\u001b[38;5;241;43m.\u001b[39;49m\u001b[43mmf6\u001b[49m\u001b[38;5;241;43m.\u001b[39;49m\u001b[43mMFSimulation\u001b[49m\u001b[38;5;241;43m.\u001b[39;49m\u001b[43mload\u001b[49m\u001b[43m(\u001b[49m\n\u001b[0;32m    315\u001b[0m \u001b[43m    \u001b[49m\u001b[43msim_ws\u001b[49m\u001b[38;5;241;43m=\u001b[39;49m\u001b[43mmodel_path\u001b[49m\u001b[43m,\u001b[49m\n\u001b[0;32m    316\u001b[0m \u001b[43m    \u001b[49m\u001b[43mexe_name\u001b[49m\u001b[38;5;241;43m=\u001b[39;49m\u001b[43mexe_name\u001b[49m\u001b[43m,\u001b[49m\n\u001b[0;32m    317\u001b[0m \u001b[43m    \u001b[49m\u001b[43mverbosity_level\u001b[49m\u001b[38;5;241;43m=\u001b[39;49m\u001b[43mverbosity_level\u001b[49m\u001b[43m,\u001b[49m\n\u001b[0;32m    318\u001b[0m \u001b[43m\u001b[49m\u001b[43m)\u001b[49m\n\u001b[0;32m    319\u001b[0m \u001b[38;5;28;01mreturn\u001b[39;00m sim\n",
      "File \u001b[1;32mC:\\TUBAF\\mambaforge\\envs\\pymf6\\lib\\site-packages\\flopy\\mf6\\modflow\\mfsimulation.py:784\u001b[0m, in \u001b[0;36mMFSimulation.load\u001b[1;34m(cls, sim_name, version, exe_name, sim_ws, strict, verbosity_level, load_only, verify_data, write_headers, lazy_io)\u001b[0m\n\u001b[0;32m    782\u001b[0m     \u001b[38;5;28;01mif\u001b[39;00m verbosity_level\u001b[38;5;241m.\u001b[39mvalue \u001b[38;5;241m>\u001b[39m\u001b[38;5;241m=\u001b[39m VerbosityLevel\u001b[38;5;241m.\u001b[39mnormal\u001b[38;5;241m.\u001b[39mvalue:\n\u001b[0;32m    783\u001b[0m         \u001b[38;5;28mprint\u001b[39m(\u001b[38;5;124mf\u001b[39m\u001b[38;5;124m\"\u001b[39m\u001b[38;5;124m  loading model \u001b[39m\u001b[38;5;132;01m{\u001b[39;00mitem[\u001b[38;5;241m0\u001b[39m]\u001b[38;5;241m.\u001b[39mlower()\u001b[38;5;132;01m}\u001b[39;00m\u001b[38;5;124m...\u001b[39m\u001b[38;5;124m\"\u001b[39m)\n\u001b[1;32m--> 784\u001b[0m     instance\u001b[38;5;241m.\u001b[39m_models[item[\u001b[38;5;241m2\u001b[39m]] \u001b[38;5;241m=\u001b[39m \u001b[43mmodel_obj\u001b[49m\u001b[38;5;241;43m.\u001b[39;49m\u001b[43mload\u001b[49m\u001b[43m(\u001b[49m\n\u001b[0;32m    785\u001b[0m \u001b[43m        \u001b[49m\u001b[43minstance\u001b[49m\u001b[43m,\u001b[49m\n\u001b[0;32m    786\u001b[0m \u001b[43m        \u001b[49m\u001b[43minstance\u001b[49m\u001b[38;5;241;43m.\u001b[39;49m\u001b[43mstructure\u001b[49m\u001b[38;5;241;43m.\u001b[39;49m\u001b[43mmodel_struct_objs\u001b[49m\u001b[43m[\u001b[49m\u001b[43mitem\u001b[49m\u001b[43m[\u001b[49m\u001b[38;5;241;43m0\u001b[39;49m\u001b[43m]\u001b[49m\u001b[38;5;241;43m.\u001b[39;49m\u001b[43mlower\u001b[49m\u001b[43m(\u001b[49m\u001b[43m)\u001b[49m\u001b[43m]\u001b[49m\u001b[43m,\u001b[49m\n\u001b[0;32m    787\u001b[0m \u001b[43m        \u001b[49m\u001b[43mitem\u001b[49m\u001b[43m[\u001b[49m\u001b[38;5;241;43m2\u001b[39;49m\u001b[43m]\u001b[49m\u001b[43m,\u001b[49m\n\u001b[0;32m    788\u001b[0m \u001b[43m        \u001b[49m\u001b[43mname_file\u001b[49m\u001b[43m,\u001b[49m\n\u001b[0;32m    789\u001b[0m \u001b[43m        \u001b[49m\u001b[43mversion\u001b[49m\u001b[43m,\u001b[49m\n\u001b[0;32m    790\u001b[0m \u001b[43m        \u001b[49m\u001b[43mexe_name\u001b[49m\u001b[43m,\u001b[49m\n\u001b[0;32m    791\u001b[0m \u001b[43m        \u001b[49m\u001b[43mstrict\u001b[49m\u001b[43m,\u001b[49m\n\u001b[0;32m    792\u001b[0m \u001b[43m        \u001b[49m\u001b[43mpath\u001b[49m\u001b[43m,\u001b[49m\n\u001b[0;32m    793\u001b[0m \u001b[43m        \u001b[49m\u001b[43mload_only\u001b[49m\u001b[43m,\u001b[49m\n\u001b[0;32m    794\u001b[0m \u001b[43m    \u001b[49m\u001b[43m)\u001b[49m\n\u001b[0;32m    796\u001b[0m \u001b[38;5;66;03m# load exchange packages and dependent packages\u001b[39;00m\n\u001b[0;32m    797\u001b[0m \u001b[38;5;28;01mtry\u001b[39;00m:\n",
      "File \u001b[1;32mC:\\TUBAF\\mambaforge\\envs\\pymf6\\lib\\site-packages\\flopy\\mf6\\modflow\\mfgwf.py:127\u001b[0m, in \u001b[0;36mModflowGwf.load\u001b[1;34m(cls, simulation, structure, modelname, model_nam_file, version, exe_name, strict, model_rel_path, load_only)\u001b[0m\n\u001b[0;32m    114\u001b[0m \u001b[38;5;129m@classmethod\u001b[39m\n\u001b[0;32m    115\u001b[0m \u001b[38;5;28;01mdef\u001b[39;00m \u001b[38;5;21mload\u001b[39m(\n\u001b[0;32m    116\u001b[0m     \u001b[38;5;28mcls\u001b[39m,\n\u001b[1;32m   (...)\u001b[0m\n\u001b[0;32m    125\u001b[0m     load_only\u001b[38;5;241m=\u001b[39m\u001b[38;5;28;01mNone\u001b[39;00m,\n\u001b[0;32m    126\u001b[0m ):\n\u001b[1;32m--> 127\u001b[0m     \u001b[38;5;28;01mreturn\u001b[39;00m \u001b[43mmfmodel\u001b[49m\u001b[38;5;241;43m.\u001b[39;49m\u001b[43mMFModel\u001b[49m\u001b[38;5;241;43m.\u001b[39;49m\u001b[43mload_base\u001b[49m\u001b[43m(\u001b[49m\n\u001b[0;32m    128\u001b[0m \u001b[43m        \u001b[49m\u001b[43msimulation\u001b[49m\u001b[43m,\u001b[49m\n\u001b[0;32m    129\u001b[0m \u001b[43m        \u001b[49m\u001b[43mstructure\u001b[49m\u001b[43m,\u001b[49m\n\u001b[0;32m    130\u001b[0m \u001b[43m        \u001b[49m\u001b[43mmodelname\u001b[49m\u001b[43m,\u001b[49m\n\u001b[0;32m    131\u001b[0m \u001b[43m        \u001b[49m\u001b[43mmodel_nam_file\u001b[49m\u001b[43m,\u001b[49m\n\u001b[0;32m    132\u001b[0m \u001b[43m        \u001b[49m\u001b[38;5;124;43m\"\u001b[39;49m\u001b[38;5;124;43mgwf6\u001b[39;49m\u001b[38;5;124;43m\"\u001b[39;49m\u001b[43m,\u001b[49m\n\u001b[0;32m    133\u001b[0m \u001b[43m        \u001b[49m\u001b[43mversion\u001b[49m\u001b[43m,\u001b[49m\n\u001b[0;32m    134\u001b[0m \u001b[43m        \u001b[49m\u001b[43mexe_name\u001b[49m\u001b[43m,\u001b[49m\n\u001b[0;32m    135\u001b[0m \u001b[43m        \u001b[49m\u001b[43mstrict\u001b[49m\u001b[43m,\u001b[49m\n\u001b[0;32m    136\u001b[0m \u001b[43m        \u001b[49m\u001b[43mmodel_rel_path\u001b[49m\u001b[43m,\u001b[49m\n\u001b[0;32m    137\u001b[0m \u001b[43m        \u001b[49m\u001b[43mload_only\u001b[49m\u001b[43m,\u001b[49m\n\u001b[0;32m    138\u001b[0m \u001b[43m    \u001b[49m\u001b[43m)\u001b[49m\n",
      "File \u001b[1;32mC:\\TUBAF\\mambaforge\\envs\\pymf6\\lib\\site-packages\\flopy\\mf6\\mfmodel.py:816\u001b[0m, in \u001b[0;36mMFModel.load_base\u001b[1;34m(cls, simulation, structure, modelname, model_nam_file, mtype, version, exe_name, strict, model_rel_path, load_only)\u001b[0m\n\u001b[0;32m    814\u001b[0m     \u001b[38;5;28mprint\u001b[39m(\u001b[38;5;124mf\u001b[39m\u001b[38;5;124m\"\u001b[39m\u001b[38;5;124m    loading package \u001b[39m\u001b[38;5;132;01m{\u001b[39;00mftype\u001b[38;5;132;01m}\u001b[39;00m\u001b[38;5;124m...\u001b[39m\u001b[38;5;124m\"\u001b[39m)\n\u001b[0;32m    815\u001b[0m \u001b[38;5;66;03m# load package\u001b[39;00m\n\u001b[1;32m--> 816\u001b[0m \u001b[43minstance\u001b[49m\u001b[38;5;241;43m.\u001b[39;49m\u001b[43mload_package\u001b[49m\u001b[43m(\u001b[49m\u001b[43mftype\u001b[49m\u001b[43m,\u001b[49m\u001b[43m \u001b[49m\u001b[43mfname\u001b[49m\u001b[43m,\u001b[49m\u001b[43m \u001b[49m\u001b[43mpname\u001b[49m\u001b[43m,\u001b[49m\u001b[43m \u001b[49m\u001b[43mstrict\u001b[49m\u001b[43m,\u001b[49m\u001b[43m \u001b[49m\u001b[38;5;28;43;01mNone\u001b[39;49;00m\u001b[43m)\u001b[49m\n\u001b[0;32m    817\u001b[0m sim_data \u001b[38;5;241m=\u001b[39m simulation\u001b[38;5;241m.\u001b[39msimulation_data\n\u001b[0;32m    818\u001b[0m \u001b[38;5;28;01mif\u001b[39;00m ftype \u001b[38;5;241m==\u001b[39m \u001b[38;5;124m\"\u001b[39m\u001b[38;5;124mdis\u001b[39m\u001b[38;5;124m\"\u001b[39m \u001b[38;5;129;01mand\u001b[39;00m \u001b[38;5;129;01mnot\u001b[39;00m sim_data\u001b[38;5;241m.\u001b[39mmax_columns_user_set:\n\u001b[0;32m    819\u001b[0m     \u001b[38;5;66;03m# set column wrap to ncol\u001b[39;00m\n",
      "File \u001b[1;32mC:\\TUBAF\\mambaforge\\envs\\pymf6\\lib\\site-packages\\flopy\\mf6\\mfmodel.py:1881\u001b[0m, in \u001b[0;36mMFModel.load_package\u001b[1;34m(self, ftype, fname, pname, strict, ref_path, dict_package_name, parent_package)\u001b[0m\n\u001b[0;32m   1872\u001b[0m package \u001b[38;5;241m=\u001b[39m package_obj(\n\u001b[0;32m   1873\u001b[0m     \u001b[38;5;28mself\u001b[39m,\n\u001b[0;32m   1874\u001b[0m     filename\u001b[38;5;241m=\u001b[39mfname,\n\u001b[1;32m   (...)\u001b[0m\n\u001b[0;32m   1878\u001b[0m     _internal_package\u001b[38;5;241m=\u001b[39m\u001b[38;5;28;01mTrue\u001b[39;00m,\n\u001b[0;32m   1879\u001b[0m )\n\u001b[0;32m   1880\u001b[0m \u001b[38;5;28;01mtry\u001b[39;00m:\n\u001b[1;32m-> 1881\u001b[0m     \u001b[43mpackage\u001b[49m\u001b[38;5;241;43m.\u001b[39;49m\u001b[43mload\u001b[49m\u001b[43m(\u001b[49m\u001b[43mstrict\u001b[49m\u001b[43m)\u001b[49m\n\u001b[0;32m   1882\u001b[0m \u001b[38;5;28;01mexcept\u001b[39;00m ReadAsArraysException:\n\u001b[0;32m   1883\u001b[0m     \u001b[38;5;66;03m#  create ReadAsArrays package and load it instead\u001b[39;00m\n\u001b[0;32m   1884\u001b[0m     package_obj \u001b[38;5;241m=\u001b[39m \u001b[38;5;28mself\u001b[39m\u001b[38;5;241m.\u001b[39mpackage_factory(\u001b[38;5;124mf\u001b[39m\u001b[38;5;124m\"\u001b[39m\u001b[38;5;132;01m{\u001b[39;00mftype\u001b[38;5;132;01m}\u001b[39;00m\u001b[38;5;124ma\u001b[39m\u001b[38;5;124m\"\u001b[39m, model_type)\n",
      "File \u001b[1;32mC:\\TUBAF\\mambaforge\\envs\\pymf6\\lib\\site-packages\\flopy\\mf6\\mfpackage.py:2657\u001b[0m, in \u001b[0;36mMFPackage.load\u001b[1;34m(self, strict)\u001b[0m\n\u001b[0;32m   2653\u001b[0m         message \u001b[38;5;241m=\u001b[39m \u001b[38;5;124m\"\u001b[39m\u001b[38;5;124mFile \u001b[39m\u001b[38;5;132;01m{}\u001b[39;00m\u001b[38;5;124m of type \u001b[39m\u001b[38;5;132;01m{}\u001b[39;00m\u001b[38;5;124m could not be opened.\u001b[39m\u001b[38;5;124m\"\u001b[39m\u001b[38;5;241m.\u001b[39mformat(\n\u001b[0;32m   2654\u001b[0m             \u001b[38;5;28mself\u001b[39m\u001b[38;5;241m.\u001b[39mget_file_path(), \u001b[38;5;28mself\u001b[39m\u001b[38;5;241m.\u001b[39mpackage_type\n\u001b[0;32m   2655\u001b[0m         )\n\u001b[0;32m   2656\u001b[0m         type_, value_, traceback_ \u001b[38;5;241m=\u001b[39m sys\u001b[38;5;241m.\u001b[39mexc_info()\n\u001b[1;32m-> 2657\u001b[0m         \u001b[38;5;28;01mraise\u001b[39;00m MFDataException(\n\u001b[0;32m   2658\u001b[0m             \u001b[38;5;28mself\u001b[39m\u001b[38;5;241m.\u001b[39mmodel_name,\n\u001b[0;32m   2659\u001b[0m             \u001b[38;5;28mself\u001b[39m\u001b[38;5;241m.\u001b[39mpackage_name,\n\u001b[0;32m   2660\u001b[0m             \u001b[38;5;28mself\u001b[39m\u001b[38;5;241m.\u001b[39mpath,\n\u001b[0;32m   2661\u001b[0m             \u001b[38;5;124m\"\u001b[39m\u001b[38;5;124mloading package file\u001b[39m\u001b[38;5;124m\"\u001b[39m,\n\u001b[0;32m   2662\u001b[0m             \u001b[38;5;28;01mNone\u001b[39;00m,\n\u001b[0;32m   2663\u001b[0m             inspect\u001b[38;5;241m.\u001b[39mstack()[\u001b[38;5;241m0\u001b[39m][\u001b[38;5;241m3\u001b[39m],\n\u001b[0;32m   2664\u001b[0m             type_,\n\u001b[0;32m   2665\u001b[0m             value_,\n\u001b[0;32m   2666\u001b[0m             traceback_,\n\u001b[0;32m   2667\u001b[0m             message,\n\u001b[0;32m   2668\u001b[0m             \u001b[38;5;28mself\u001b[39m\u001b[38;5;241m.\u001b[39m_simulation_data\u001b[38;5;241m.\u001b[39mdebug,\n\u001b[0;32m   2669\u001b[0m         )\n\u001b[0;32m   2671\u001b[0m \u001b[38;5;28;01mtry\u001b[39;00m:\n\u001b[0;32m   2672\u001b[0m     \u001b[38;5;28mself\u001b[39m\u001b[38;5;241m.\u001b[39m_load_blocks(fd_input_file, strict)\n",
      "\u001b[1;31mMFDataException\u001b[0m: An error occurred in model \"riverbase\" package \"wel_0\". The error occurred while loading package file in the \"load\" method.\nAdditional Information:\n(1) File C:\\TUBAF\\MODSIMPLE2\\pymf6tools\\tests\\models\\river_base\\riverbase.wel of type wel could not be opened."
     ]
    }
   ],
   "source": [
    "run_simulation(model_path)"
   ]
  },
  {
   "cell_type": "code",
   "execution_count": null,
   "id": "7267b457-c30b-4408-9597-2b47a36015ea",
   "metadata": {
    "tags": []
   },
   "outputs": [],
   "source": [
    "show_bcs?"
   ]
  },
  {
   "cell_type": "code",
   "execution_count": null,
   "id": "45f354f7-bb5d-4c86-a3fc-3d925e6bdd2c",
   "metadata": {
    "tags": []
   },
   "outputs": [],
   "source": [
    "show_bcs(r'C:\\TUBAF\\MODSIMPLE2\\pymf6tools\\tests\\models\\river_base', 'riverbase', bc_names=('chd', 'riv-1'))"
   ]
  },
  {
   "cell_type": "code",
   "execution_count": null,
   "id": "793ea635-6122-4238-b84a-87eeb00c775b",
   "metadata": {},
   "outputs": [],
   "source": [
    "show_heads(r'C:\\TUBAF\\MODSIMPLE2\\pymf6tools\\tests\\models\\river_base', 'riverbase', show_wells=False)"
   ]
  },
  {
   "cell_type": "code",
   "execution_count": null,
   "id": "b3f68e20-5cfd-419e-b18f-6b0712c14058",
   "metadata": {},
   "outputs": [],
   "source": []
  },
  {
   "cell_type": "code",
   "execution_count": null,
   "id": "86136fb0-19bc-4e15-88d0-80326549d794",
   "metadata": {},
   "outputs": [],
   "source": []
  }
 ],
 "metadata": {
  "kernelspec": {
   "display_name": "Python 3 (ipykernel)",
   "language": "python",
   "name": "python3"
  },
  "language_info": {
   "codemirror_mode": {
    "name": "ipython",
    "version": 3
   },
   "file_extension": ".py",
   "mimetype": "text/x-python",
   "name": "python",
   "nbconvert_exporter": "python",
   "pygments_lexer": "ipython3",
   "version": "3.10.9"
  }
 },
 "nbformat": 4,
 "nbformat_minor": 5
}
