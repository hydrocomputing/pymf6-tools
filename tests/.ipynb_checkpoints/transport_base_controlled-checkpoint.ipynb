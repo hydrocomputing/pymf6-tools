{
 "cells": [
  {
   "cell_type": "code",
   "execution_count": 77,
   "id": "a3bb2016-d24d-43fb-bcf9-39fd447d10cb",
   "metadata": {},
   "outputs": [
    {
     "name": "stdout",
     "output_type": "stream",
     "text": [
      "The autoreload extension is already loaded. To reload it, use:\n",
      "  %reload_ext autoreload\n"
     ]
    }
   ],
   "source": [
    "%load_ext autoreload"
   ]
  },
  {
   "cell_type": "code",
   "execution_count": 78,
   "id": "27711f9f-f4fa-4cfc-ad1a-c02e7e368418",
   "metadata": {
    "tags": []
   },
   "outputs": [],
   "source": [
    "%autoreload 2"
   ]
  },
  {
   "cell_type": "code",
   "execution_count": 79,
   "id": "df201042-e521-4327-a94b-246ce7199d53",
   "metadata": {
    "tags": []
   },
   "outputs": [],
   "source": [
    "from pymf6tools.make_model import run_simulation"
   ]
  },
  {
   "cell_type": "code",
   "execution_count": 80,
   "id": "349fc5fb-e54c-4134-bf17-ae8164b52f52",
   "metadata": {
    "tags": []
   },
   "outputs": [],
   "source": [
    "from pymf6tools.plotting import show_heads, show_well_head, show_concentration, show_bcs, show_bot_elevations"
   ]
  },
  {
   "cell_type": "code",
   "execution_count": 81,
   "id": "fc79bc0a-6e7a-4b4d-973c-674643f1fc2c",
   "metadata": {
    "tags": []
   },
   "outputs": [],
   "source": [
    "from pymf6tools.base_model import BASE_MODEL_DATA, BASE_TRANSPORT_MODEL_DATA, BASE_WELL_MODEL_DATA"
   ]
  },
  {
   "cell_type": "code",
   "execution_count": 82,
   "id": "607766f1-a230-449f-a784-39c1541b329a",
   "metadata": {
    "tags": []
   },
   "outputs": [],
   "source": [
    "#set model path \n",
    "model_path = r'C:\\TUBAF\\MODSIMPLE2\\pymf6tools\\tests\\models\\transport_base'\n",
    "model_name = 'transportbase'\n",
    "#well_coords = BASE_WELL_MODEL_DATA['wells']['coords']"
   ]
  },
  {
   "cell_type": "code",
   "execution_count": 83,
   "id": "0fe82fb8-bb10-48f6-b88b-76539260f1d3",
   "metadata": {
    "tags": []
   },
   "outputs": [],
   "source": [
    "run_simulation(model_path)"
   ]
  },
  {
   "cell_type": "code",
   "execution_count": 85,
   "id": "8c39bf30-8739-4115-8999-882772ce8671",
   "metadata": {
    "tags": []
   },
   "outputs": [
    {
     "ename": "AttributeError",
     "evalue": "'NoneType' object has no attribute 'parent'",
     "output_type": "error",
     "traceback": [
      "\u001b[1;31m---------------------------------------------------------------------------\u001b[0m",
      "\u001b[1;31mAttributeError\u001b[0m                            Traceback (most recent call last)",
      "Cell \u001b[1;32mIn[85], line 1\u001b[0m\n\u001b[1;32m----> 1\u001b[0m \u001b[43mshow_bcs\u001b[49m\u001b[43m(\u001b[49m\u001b[43mmodel_path\u001b[49m\u001b[43m,\u001b[49m\u001b[43m \u001b[49m\u001b[43mmodel_name\u001b[49m\u001b[43m,\u001b[49m\u001b[43m \u001b[49m\u001b[43mbc_names\u001b[49m\u001b[38;5;241;43m=\u001b[39;49m\u001b[43m(\u001b[49m\u001b[38;5;124;43m'\u001b[39;49m\u001b[38;5;124;43mchd\u001b[39;49m\u001b[38;5;124;43m'\u001b[39;49m\u001b[43m,\u001b[49m\u001b[43m \u001b[49m\u001b[38;5;124;43m'\u001b[39;49m\u001b[38;5;124;43mwel\u001b[39;49m\u001b[38;5;124;43m'\u001b[39;49m\u001b[43m)\u001b[49m\u001b[43m,\u001b[49m\u001b[43m \u001b[49m\u001b[43mshow_grid\u001b[49m\u001b[38;5;241;43m=\u001b[39;49m\u001b[38;5;28;43;01mTrue\u001b[39;49;00m\u001b[43m)\u001b[49m\n",
      "File \u001b[1;32mC:\\TUBAF\\MODSIMPLE2\\pymf6tools\\src\\pymf6tools\\plotting.py:72\u001b[0m, in \u001b[0;36mshow_bcs\u001b[1;34m(model_path, name, title, bc_names, show_grid)\u001b[0m\n\u001b[0;32m     70\u001b[0m     \u001b[38;5;28;01mreturn\u001b[39;00m bc\n\u001b[0;32m     71\u001b[0m \u001b[38;5;28;01mfor\u001b[39;00m bc_name \u001b[38;5;129;01min\u001b[39;00m bc_names:\n\u001b[1;32m---> 72\u001b[0m     plot \u001b[38;5;241m=\u001b[39m \u001b[43madd_bc\u001b[49m\u001b[43m(\u001b[49m\u001b[43mbc_name\u001b[49m\u001b[43m)\u001b[49m\n\u001b[0;32m     73\u001b[0m \u001b[38;5;28;01mif\u001b[39;00m show_grid:\n\u001b[0;32m     74\u001b[0m     pmv\u001b[38;5;241m.\u001b[39mplot_grid()\n",
      "File \u001b[1;32mC:\\TUBAF\\MODSIMPLE2\\pymf6tools\\src\\pymf6tools\\plotting.py:67\u001b[0m, in \u001b[0;36mshow_bcs.<locals>.add_bc\u001b[1;34m(name, handles, pmv)\u001b[0m\n\u001b[0;32m     65\u001b[0m \u001b[38;5;250m\u001b[39m\u001b[38;5;124;03m\"\"\"Add a BC including legend entry\"\"\"\u001b[39;00m\n\u001b[0;32m     66\u001b[0m name \u001b[38;5;241m=\u001b[39m name\u001b[38;5;241m.\u001b[39mupper()\n\u001b[1;32m---> 67\u001b[0m bc \u001b[38;5;241m=\u001b[39m \u001b[43mpmv\u001b[49m\u001b[38;5;241;43m.\u001b[39;49m\u001b[43mplot_bc\u001b[49m\u001b[43m(\u001b[49m\u001b[43mname\u001b[49m\u001b[38;5;241;43m=\u001b[39;49m\u001b[43mname\u001b[49m\u001b[43m,\u001b[49m\u001b[43m \u001b[49m\u001b[43mplotAll\u001b[49m\u001b[38;5;241;43m=\u001b[39;49m\u001b[38;5;28;43;01mTrue\u001b[39;49;00m\u001b[43m,\u001b[49m\u001b[43m \u001b[49m\u001b[43mkper\u001b[49m\u001b[38;5;241;43m=\u001b[39;49m\u001b[38;5;241;43m1\u001b[39;49m\u001b[43m)\u001b[49m\n\u001b[0;32m     68\u001b[0m color \u001b[38;5;241m=\u001b[39m bc\u001b[38;5;241m.\u001b[39mcmap\u001b[38;5;241m.\u001b[39mcolors[\u001b[38;5;241m-\u001b[39m\u001b[38;5;241m1\u001b[39m]\n\u001b[0;32m     69\u001b[0m handles\u001b[38;5;241m.\u001b[39mappend(Patch(facecolor\u001b[38;5;241m=\u001b[39mcolor, edgecolor\u001b[38;5;241m=\u001b[39m\u001b[38;5;124m'\u001b[39m\u001b[38;5;124mk\u001b[39m\u001b[38;5;124m'\u001b[39m, label\u001b[38;5;241m=\u001b[39mname))\n",
      "File \u001b[1;32mC:\\TUBAF\\mambaforge\\envs\\pymf6\\lib\\site-packages\\flopy\\plot\\map.py:471\u001b[0m, in \u001b[0;36mPlotMapView.plot_bc\u001b[1;34m(self, name, package, kper, color, plotAll, **kwargs)\u001b[0m\n\u001b[0;32m    468\u001b[0m     \u001b[38;5;28;01mraise\u001b[39;00m \u001b[38;5;167;01mException\u001b[39;00m(\u001b[38;5;124m\"\u001b[39m\u001b[38;5;124mCannot find package to plot\u001b[39m\u001b[38;5;124m\"\u001b[39m)\n\u001b[0;32m    470\u001b[0m \u001b[38;5;66;03m# trap for mf6 'cellid' vs mf2005 'k', 'i', 'j' convention\u001b[39;00m\n\u001b[1;32m--> 471\u001b[0m \u001b[38;5;28;01mif\u001b[39;00m \u001b[38;5;28misinstance\u001b[39m(p, \u001b[38;5;28mlist\u001b[39m) \u001b[38;5;129;01mor\u001b[39;00m \u001b[43mp\u001b[49m\u001b[38;5;241;43m.\u001b[39;49m\u001b[43mparent\u001b[49m\u001b[38;5;241m.\u001b[39mversion \u001b[38;5;241m==\u001b[39m \u001b[38;5;124m\"\u001b[39m\u001b[38;5;124mmf6\u001b[39m\u001b[38;5;124m\"\u001b[39m:\n\u001b[0;32m    472\u001b[0m     \u001b[38;5;28;01mif\u001b[39;00m \u001b[38;5;129;01mnot\u001b[39;00m \u001b[38;5;28misinstance\u001b[39m(p, \u001b[38;5;28mlist\u001b[39m):\n\u001b[0;32m    473\u001b[0m         p \u001b[38;5;241m=\u001b[39m [p]\n",
      "\u001b[1;31mAttributeError\u001b[0m: 'NoneType' object has no attribute 'parent'"
     ]
    },
    {
     "data": {
      "image/png": "[encoded data removed]",
      "text/plain": [
       "<Figure size 640x480 with 1 Axes>"
      ]
     },
     "metadata": {},
     "output_type": "display_data"
    }
   ],
   "source": [
    "show_bcs(model_path, model_name, bc_names=('chd', 'wel'), show_grid=True)"
   ]
  },
  {
   "cell_type": "code",
   "execution_count": null,
   "id": "64edcb8b-492a-44dc-8169-3a6595fa0546",
   "metadata": {
    "tags": []
   },
   "outputs": [],
   "source": [
    "show_heads(model_path, model_name, show_wells=False)"
   ]
  },
  {
   "cell_type": "code",
   "execution_count": null,
   "id": "5981ca75-2185-4942-8242-c09c02653a8f",
   "metadata": {
    "tags": []
   },
   "outputs": [],
   "source": [
    "show_well_head?"
   ]
  },
  {
   "cell_type": "code",
   "execution_count": null,
   "id": "9d4d7684-f728-4e9d-a748-5f676d688902",
   "metadata": {
    "tags": []
   },
   "outputs": [],
   "source": [
    "show_well_head(wel_coords=BASE, model_data=model_data)"
   ]
  },
  {
   "cell_type": "code",
   "execution_count": null,
   "id": "8081fe7a-35d1-4f1c-8b0a-8a5579965295",
   "metadata": {},
   "outputs": [],
   "source": []
  }
 ],
 "metadata": {
  "kernelspec": {
   "display_name": "Python 3 (ipykernel)",
   "language": "python",
   "name": "python3"
  },
  "language_info": {
   "codemirror_mode": {
    "name": "ipython",
    "version": 3
   },
   "file_extension": ".py",
   "mimetype": "text/x-python",
   "name": "python",
   "nbconvert_exporter": "python",
   "pygments_lexer": "ipython3",
   "version": "3.10.9"
  }
 },
 "nbformat": 4,
 "nbformat_minor": 5
}
