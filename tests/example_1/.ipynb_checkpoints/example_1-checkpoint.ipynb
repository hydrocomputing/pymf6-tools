{
 "cells": [
  {
   "cell_type": "markdown",
   "id": "cd282849-bb38-430c-a734-f1e9795af027",
   "metadata": {
    "tags": []
   },
   "source": [
    "# River and well interaction "
   ]
  },
  {
   "attachments": {
    "f35fd1c0-c456-4a39-ad9f-7051d002cbce.svg": {
     "image/svg+xml": [
      "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"
     ]
    }
   },
   "cell_type": "markdown",
   "id": "a2c04083-a9e5-4de0-9e6e-d7010089c7dd",
   "metadata": {},
   "source": [
    "![river_and_wells.svg](attachment:f35fd1c0-c456-4a39-ad9f-7051d002cbce.svg)\n",
    "src: ....."
   ]
  },
  {
   "cell_type": "markdown",
   "id": "b667af76-2748-47cf-880f-362f18df551b",
   "metadata": {
    "tags": []
   },
   "source": [
    "# Example description\n",
    "### Spatial configuration\n",
    "There is two simulated aquifer which are separated by an aquitard. The model grid consists of 15 rows, 10 columns, and 3 layers.  Uniform grid spacing with a row and column width of 100.0 meters. The top layer is positioned at an elevation of 15.0 meters, while the bottom layers are situated at elevations of -5.0, -10.0, and -15.0 meters, respectively.\n",
    "### Temporal discretization\n",
    "The model is designed for a simulation period of 10 days, divided into 120 time steps per stress period, with a time step multiplier of 1.0. The simulation is repeated for a total of 3 periods. The model operates in days as time units and meters as length units.\n",
    "### Layer Hydraulic properties \n",
    "Initial hydraulic conductivity values for the three layers are set at 0.5, 0.000006, and 0.5, respectively.\n",
    "The vertical anisotropy ratios for the layers are specified as 0.1, 0.2, and 0.3, indicating differences in hydraulic conductivity in the vertical direction.\n",
    "### Storage properties \n",
    "The specific yield is set at 0.2, representing the volumetric ratio of water that drains under the influence of gravity.The specific storage is specified as 0.000001, representing the compressibility of the aquifer.\n",
    "### Boundary Conditions \n",
    "The model starts with an initial hydraulic head of 10.0 meters across the entire domain. \n",
    "Two constant head boundaries are established at specific locations: one at the intersection of the first layer, first row, and first column and another at the intersection of the last layer, last row, and last column, each set at a constant head of 10.0 meters.\n",
    "### Solute transport conditions \n",
    "The initial concentration of the substance being transported within the groundwater system set to 1.\n",
    "The model simulates a point source contamination: at cell (Layer 0, Row 5, Column 1), the initial concentration is set to 10.\n",
    "Similarly, at cell (Layer 0, Row 6, Column 1), the initial concentration is also set to 10.\n",
    "### River Boundary specifications \n",
    "rivlay: Specifies the layer number for each river cell. In this case, all river cells are situated in Layer 0, denoting their vertical position within the aquifer system.  \n",
    "rivrow and rivcol: Arrays indicating the horizontal positions of the river cells in terms of rows and columns within the model grid.  \n",
    "rivstg: Represents the stage or water level of each river cell. The values gradually vary between 13 and 14 across the river cells.  \n",
    "rivbot: Defines the elevation of the river bottom for each corresponding river cell, showing a variation between elevations of 7 and 10.  \n",
    "rivcnd: Indicates the conductance values associated with the river cells. In this case, a uniform conductance value of 0.05 is assigned to all river cells.  "
   ]
  },
  {
   "cell_type": "markdown",
   "id": "2b4835b8-8060-469f-9531-f405a2abde39",
   "metadata": {},
   "source": [
    "# Start setting up the model "
   ]
  },
  {
   "cell_type": "markdown",
   "id": "16c80df8-d761-4698-8ca0-f602662ac047",
   "metadata": {
    "tags": []
   },
   "source": [
    "### Magic commands - auto reload of the model each time "
   ]
  },
  {
   "cell_type": "code",
   "execution_count": 18,
   "id": "482a74f0-385b-495d-92f6-9d5b368374d9",
   "metadata": {
    "tags": []
   },
   "outputs": [
    {
     "name": "stdout",
     "output_type": "stream",
     "text": [
      "The autoreload extension is already loaded. To reload it, use:\n",
      "  %reload_ext autoreload\n"
     ]
    }
   ],
   "source": [
    "%load_ext autoreload"
   ]
  },
  {
   "cell_type": "code",
   "execution_count": 19,
   "id": "9a97cf56-15fc-4af5-97b0-309d1744f41d",
   "metadata": {
    "tags": []
   },
   "outputs": [],
   "source": [
    "%autoreload 2"
   ]
  },
  {
   "cell_type": "markdown",
   "id": "1b24c6f7-4000-4666-883e-9c522d464bbb",
   "metadata": {
    "tags": []
   },
   "source": [
    "### Import from pymf6tools the functions to run, get and visualize simulation results"
   ]
  },
  {
   "cell_type": "code",
   "execution_count": 20,
   "id": "8468b7e2-11aa-42d4-b513-a79078d12b1c",
   "metadata": {},
   "outputs": [],
   "source": [
    "from pymf6tools.make_model import run_simulation, get_simulation\n",
    "import numpy as np \n",
    "import os "
   ]
  },
  {
   "cell_type": "code",
   "execution_count": 21,
   "id": "3e931716-42e0-413f-92e3-33c9c8dbd505",
   "metadata": {
    "tags": []
   },
   "outputs": [],
   "source": [
    "from pymf6tools.plotting import show_heads, show_well_head, show_concentration, show_bcs, show_bot_elevations, show_river_stages, contour_bot_elevations, plot_spec_discharge "
   ]
  },
  {
   "cell_type": "markdown",
   "id": "16231890-25d0-4bc3-b14a-765a966659b6",
   "metadata": {},
   "source": [
    "## Set model path and name "
   ]
  },
  {
   "cell_type": "code",
   "execution_count": 22,
   "id": "0b865120-0329-4a36-8be7-60171efff881",
   "metadata": {},
   "outputs": [
    {
     "name": "stdout",
     "output_type": "stream",
     "text": [
      "C:\\TUBAF\\MODSIMPLE2\\pymf6tools\\tests\\example_1\\../models/example_1\n"
     ]
    }
   ],
   "source": [
    "dir = os.getcwd()\n",
    "model_name = \"example_1\"\n",
    "model_path = os.path.join(dir, '../models/' + model_name) \n",
    "print(model_path)"
   ]
  },
  {
   "cell_type": "markdown",
   "id": "d3f8ccb6-4fab-4ded-a194-c8faa5cae633",
   "metadata": {
    "tags": []
   },
   "source": [
    "## Run simulation"
   ]
  },
  {
   "cell_type": "code",
   "execution_count": null,
   "id": "1bfa1db4-7c63-4a16-a8b3-116b8f37b9b3",
   "metadata": {
    "tags": []
   },
   "outputs": [],
   "source": [
    "%%time \n",
    "run_simulation(model_path)"
   ]
  },
  {
   "cell_type": "markdown",
   "id": "216a2005-5a99-4ff3-8a2d-e2a4ccb382cc",
   "metadata": {},
   "source": [
    "### Inspect visualization tools"
   ]
  },
  {
   "cell_type": "code",
   "execution_count": null,
   "id": "7267b457-c30b-4408-9597-2b47a36015ea",
   "metadata": {
    "tags": []
   },
   "outputs": [],
   "source": [
    "show_bcs?"
   ]
  },
  {
   "cell_type": "markdown",
   "id": "e8305e3e-df1c-4ad2-a857-21168ceb55a4",
   "metadata": {},
   "source": [
    "### Inspect the parameters by importing the model results "
   ]
  },
  {
   "cell_type": "code",
   "execution_count": null,
   "id": "bf0984db-d348-4ea3-870a-cf9907abbbf2",
   "metadata": {},
   "outputs": [],
   "source": [
    "sim = get_simulation(model_path, model_name)\n",
    "ml = sim.get_model(model_name)\n",
    "dis = ml.get_package('dis') "
   ]
  },
  {
   "cell_type": "code",
   "execution_count": null,
   "id": "5e718290-8bef-42a5-8f0c-f027fdb177e0",
   "metadata": {},
   "outputs": [],
   "source": [
    "dis.data_list"
   ]
  },
  {
   "cell_type": "markdown",
   "id": "b709e145-451b-4260-ab34-f6a8fa412790",
   "metadata": {},
   "source": [
    "## Visualization of Input and Output - e.g. Boundary conditions and Heads "
   ]
  },
  {
   "cell_type": "markdown",
   "id": "d3a1e043-981b-4b72-85ad-d6b38c4fc531",
   "metadata": {},
   "source": [
    "### Boundary Conditions \n",
    "Note that you should change the \"bc_names\" according to the boundary conditions present in the simulation.  \n",
    "<span style=\"color:blue\">'chd'</span> Constant-head boundary  \n",
    "<span style=\"color:blue\">'riv-1'</span> River boundary"
   ]
  },
  {
   "cell_type": "code",
   "execution_count": null,
   "id": "45f354f7-bb5d-4c86-a3fc-3d925e6bdd2c",
   "metadata": {
    "tags": []
   },
   "outputs": [],
   "source": [
    "show_bcs(model_path, model_name, bc_names=('chd','riv-1'))"
   ]
  },
  {
   "cell_type": "markdown",
   "id": "2cf44635-6208-4fa4-9ae1-486cf9ee5d71",
   "metadata": {},
   "source": [
    "### Bottom elevation of the layers - Interactive graph\n",
    "max_top: maximum elevation of the layer selected  \n",
    "max_botm: maximum depth of the layer selected  \n",
    "layer: choose layer of the model "
   ]
  },
  {
   "cell_type": "code",
   "execution_count": null,
   "id": "b3f68e20-5cfd-419e-b18f-6b0712c14058",
   "metadata": {},
   "outputs": [],
   "source": [
    "show_bot_elevations(model_path, model_name, max_top=15., max_botm=-15., layer=1)"
   ]
  },
  {
   "cell_type": "markdown",
   "id": "073ee411-b1d9-4cd5-bab7-380cac593f46",
   "metadata": {},
   "source": [
    "### Specific Discharge - Interactive graph (layer and time)\n",
    "Specify the layer and time of the simulation to be visualized."
   ]
  },
  {
   "cell_type": "code",
   "execution_count": null,
   "id": "023730b0-603a-4a0a-af4c-c03f379f8ae0",
   "metadata": {
    "tags": []
   },
   "outputs": [],
   "source": [
    "plot_spec_discharge(model_path, model_name, layer=2, times = 300)"
   ]
  },
  {
   "cell_type": "code",
   "execution_count": null,
   "id": "28d0abec-5af0-4b90-bc9c-186768ae6855",
   "metadata": {
    "tags": []
   },
   "outputs": [],
   "source": [
    "plot_spec_discharge(model_path, model_name, layer=1, times = 300)"
   ]
  },
  {
   "cell_type": "markdown",
   "id": "f67e701a-215a-422e-a5d7-75ce14cb8b9b",
   "metadata": {},
   "source": [
    "### Bottom elevations with Countour lines - Interactive layer \n",
    "Specify the layer to be visualized."
   ]
  },
  {
   "cell_type": "code",
   "execution_count": null,
   "id": "0d943afc-31a1-4b14-98cd-18a18ca1e21b",
   "metadata": {
    "tags": []
   },
   "outputs": [],
   "source": [
    "contour_bot_elevations(model_path, model_name, max_top= -15, max_botm=15, layer=1)"
   ]
  },
  {
   "cell_type": "markdown",
   "id": "f25e7956-25ad-412b-934b-91f77e321197",
   "metadata": {},
   "source": [
    "### River Stages - Interactive layer and time period \n",
    "Specify the layer and the time period to be plotted. "
   ]
  },
  {
   "cell_type": "code",
   "execution_count": null,
   "id": "308fc620-a523-48b9-b996-661ec166ce24",
   "metadata": {
    "tags": []
   },
   "outputs": [],
   "source": [
    "show_river_stages(model_path, model_name, layer=1, time_period=3)"
   ]
  },
  {
   "cell_type": "markdown",
   "id": "1a587b8c-9450-428e-bbf4-aa3a3e741f1e",
   "metadata": {},
   "source": [
    "### Groundwater level "
   ]
  },
  {
   "cell_type": "code",
   "execution_count": null,
   "id": "793ea635-6122-4238-b84a-87eeb00c775b",
   "metadata": {},
   "outputs": [],
   "source": [
    "show_heads(model_path, model_name, show_wells=False)"
   ]
  },
  {
   "cell_type": "markdown",
   "id": "3c91ff95-a26f-49b1-9e72-0d35f02449ef",
   "metadata": {},
   "source": [
    "### Concentration"
   ]
  },
  {
   "cell_type": "code",
   "execution_count": null,
   "id": "0c154176-3584-4fa3-ace4-307c94e53bd9",
   "metadata": {
    "tags": []
   },
   "outputs": [],
   "source": [
    "show_concentration(model_path, model_name, show_wells=False, show_arrows=True)"
   ]
  }
 ],
 "metadata": {
  "kernelspec": {
   "display_name": "Python 3 (ipykernel)",
   "language": "python",
   "name": "python3"
  },
  "language_info": {
   "codemirror_mode": {
    "name": "ipython",
    "version": 3
   },
   "file_extension": ".py",
   "mimetype": "text/x-python",
   "name": "python",
   "nbconvert_exporter": "python",
   "pygments_lexer": "ipython3",
   "version": "3.10.9"
  }
 },
 "nbformat": 4,
 "nbformat_minor": 5
}
