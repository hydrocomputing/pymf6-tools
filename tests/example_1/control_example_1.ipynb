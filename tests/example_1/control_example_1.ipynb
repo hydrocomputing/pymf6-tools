{
 "cells": [
  {
   "cell_type": "code",
   "execution_count": 11,
   "id": "c778afc6-e665-4ce2-84a2-9fef99fa0bb5",
   "metadata": {
    "tags": []
   },
   "outputs": [],
   "source": [
    "from pymf6.mf6 import MF6\n",
    "from pymf6.api import States\n",
    "import os "
   ]
  },
  {
   "cell_type": "code",
   "execution_count": 12,
   "id": "9d0dc919-c308-4d28-925f-7c48ed882767",
   "metadata": {
    "tags": []
   },
   "outputs": [],
   "source": [
    "dir = os.getcwd()\n",
    "model_name = \"example_1\"\n",
    "model_path = dir + '/models/' + model_name \n",
    "#model_path = dir + model_name "
   ]
  },
  {
   "cell_type": "code",
   "execution_count": 15,
   "id": "7f146b07-944c-433f-bae0-95dd5d19a39b",
   "metadata": {
    "tags": []
   },
   "outputs": [
    {
     "ename": "InputError",
     "evalue": "Unsupported value type",
     "output_type": "error",
     "traceback": [
      "\u001b[1;31m---------------------------------------------------------------------------\u001b[0m",
      "\u001b[1;31mInputError\u001b[0m                                Traceback (most recent call last)",
      "Cell \u001b[1;32mIn[15], line 23\u001b[0m\n\u001b[0;32m     20\u001b[0m                     wel_bc[\u001b[38;5;124m\"\u001b[39m\u001b[38;5;124mflux\u001b[39m\u001b[38;5;124m\"\u001b[39m] \u001b[38;5;241m=\u001b[39m pumping \u001b[38;5;241m*\u001b[39m \u001b[38;5;241m1.1\u001b[39m\n\u001b[0;32m     22\u001b[0m \u001b[38;5;28;01mif\u001b[39;00m \u001b[38;5;18m__name__\u001b[39m \u001b[38;5;241m==\u001b[39m \u001b[38;5;124m'\u001b[39m\u001b[38;5;124m__main__\u001b[39m\u001b[38;5;124m'\u001b[39m:\n\u001b[1;32m---> 23\u001b[0m     \u001b[43mrun_model\u001b[49m\u001b[43m(\u001b[49m\u001b[38;5;124;43mr\u001b[39;49m\u001b[38;5;124;43m'\u001b[39;49m\u001b[38;5;124;43mC:/TUBAF/MODSIMPLE2/pymf6tools/tests/models/example_1/mfsim.nam\u001b[39;49m\u001b[38;5;124;43m'\u001b[39;49m\u001b[43m)\u001b[49m\n\u001b[0;32m     24\u001b[0m     \u001b[38;5;28mprint\u001b[39m(\u001b[38;5;124m'\u001b[39m\u001b[38;5;124mdone\u001b[39m\u001b[38;5;124m'\u001b[39m)\n",
      "Cell \u001b[1;32mIn[15], line 2\u001b[0m, in \u001b[0;36mrun_model\u001b[1;34m(nam_file)\u001b[0m\n\u001b[0;32m      1\u001b[0m \u001b[38;5;28;01mdef\u001b[39;00m \u001b[38;5;21mrun_model\u001b[39m(nam_file):\n\u001b[1;32m----> 2\u001b[0m     mf6 \u001b[38;5;241m=\u001b[39m \u001b[43mMF6\u001b[49m\u001b[43m(\u001b[49m\u001b[43mnam_file\u001b[49m\u001b[38;5;241;43m=\u001b[39;49m\u001b[43mnam_file\u001b[49m\u001b[43m)\u001b[49m\n\u001b[0;32m      3\u001b[0m     tolerance \u001b[38;5;241m=\u001b[39m \u001b[38;5;241m0.01\u001b[39m\n\u001b[0;32m      4\u001b[0m     head_limit \u001b[38;5;241m=\u001b[39m \u001b[38;5;241m0.5\u001b[39m\n",
      "File \u001b[1;32mC:\\TUBAF\\MODSIMPLE2\\pymf6\\src\\pymf6\\mf6.py:95\u001b[0m, in \u001b[0;36mMF6.__init__\u001b[1;34m(self, nam_file, sim_file, dll_path, use_modflow_api, verbose, _develop)\u001b[0m\n\u001b[0;32m     93\u001b[0m \u001b[38;5;28mself\u001b[39m\u001b[38;5;241m.\u001b[39msim_file \u001b[38;5;241m=\u001b[39m \u001b[38;5;28mself\u001b[39m\u001b[38;5;241m.\u001b[39mmodel_path \u001b[38;5;241m/\u001b[39m sim_file\n\u001b[0;32m     94\u001b[0m \u001b[38;5;28;01mwith\u001b[39;00m cd(\u001b[38;5;28mself\u001b[39m\u001b[38;5;241m.\u001b[39mmodel_path):\n\u001b[1;32m---> 95\u001b[0m     \u001b[43minit_mf6\u001b[49m\u001b[43m(\u001b[49m\u001b[38;5;28;43mstr\u001b[39;49m\u001b[43m(\u001b[49m\u001b[38;5;28;43mself\u001b[39;49m\u001b[38;5;241;43m.\u001b[39;49m\u001b[43mnam_file\u001b[49m\u001b[38;5;241;43m.\u001b[39;49m\u001b[43mparent\u001b[49m\u001b[43m)\u001b[49m\u001b[43m)\u001b[49m\n\u001b[0;32m     96\u001b[0m     \u001b[38;5;28mself\u001b[39m\u001b[38;5;241m.\u001b[39m\u001b[38;5;18m__class__\u001b[39m\u001b[38;5;241m.\u001b[39mis_initialized \u001b[38;5;241m=\u001b[39m \u001b[38;5;28;01mTrue\u001b[39;00m\n\u001b[0;32m     97\u001b[0m     \u001b[38;5;28mself\u001b[39m\u001b[38;5;241m.\u001b[39msimulation \u001b[38;5;241m=\u001b[39m Simulation(\n\u001b[0;32m     98\u001b[0m         \u001b[38;5;28mself\u001b[39m\u001b[38;5;241m.\u001b[39m_mf6,\n\u001b[0;32m     99\u001b[0m         \u001b[38;5;28mself\u001b[39m\u001b[38;5;241m.\u001b[39msim_file,\n\u001b[0;32m    100\u001b[0m         \u001b[38;5;28mself\u001b[39m\u001b[38;5;241m.\u001b[39mmf6_docs)\n",
      "File \u001b[1;32mC:\\TUBAF\\MODSIMPLE2\\pymf6\\src\\pymf6\\mf6.py:59\u001b[0m, in \u001b[0;36mMF6.__init__.<locals>.init_mf6\u001b[1;34m(sim_path)\u001b[0m\n\u001b[0;32m     57\u001b[0m         \u001b[38;5;28;01mpass\u001b[39;00m\n\u001b[0;32m     58\u001b[0m \u001b[38;5;28;01mif\u001b[39;00m use_modflow_api:\n\u001b[1;32m---> 59\u001b[0m     \u001b[38;5;28mself\u001b[39m\u001b[38;5;241m.\u001b[39m_simulator \u001b[38;5;241m=\u001b[39m \u001b[43mSimulator\u001b[49m\u001b[43m(\u001b[49m\n\u001b[0;32m     60\u001b[0m \u001b[43m        \u001b[49m\u001b[38;5;28;43mstr\u001b[39;49m\u001b[43m(\u001b[49m\u001b[38;5;28;43mself\u001b[39;49m\u001b[38;5;241;43m.\u001b[39;49m\u001b[43mdll_path\u001b[49m\u001b[43m)\u001b[49m\u001b[43m,\u001b[49m\n\u001b[0;32m     61\u001b[0m \u001b[43m        \u001b[49m\u001b[43msim_path\u001b[49m\u001b[43m,\u001b[49m\n\u001b[0;32m     62\u001b[0m \u001b[43m        \u001b[49m\u001b[43mverbose\u001b[49m\u001b[38;5;241;43m=\u001b[39;49m\u001b[43mverbose\u001b[49m\u001b[43m,\u001b[49m\n\u001b[0;32m     63\u001b[0m \u001b[43m        \u001b[49m\u001b[43m_develop\u001b[49m\u001b[38;5;241;43m=\u001b[39;49m\u001b[43m_develop\u001b[49m\u001b[43m)\u001b[49m\n\u001b[0;32m     64\u001b[0m     \u001b[38;5;66;03m# pylint: disable=protected-access\u001b[39;00m\n\u001b[0;32m     65\u001b[0m     \u001b[38;5;28mself\u001b[39m\u001b[38;5;241m.\u001b[39m_mf6 \u001b[38;5;241m=\u001b[39m \u001b[38;5;28mself\u001b[39m\u001b[38;5;241m.\u001b[39m_simulator\u001b[38;5;241m.\u001b[39m_mf6\n",
      "File \u001b[1;32mC:\\TUBAF\\MODSIMPLE2\\pymf6\\src\\pymf6\\api.py:56\u001b[0m, in \u001b[0;36mSimulator.__init__\u001b[1;34m(self, dll, sim_path, verbose, _develop)\u001b[0m\n\u001b[0;32m     51\u001b[0m \u001b[38;5;28mself\u001b[39m\u001b[38;5;241m.\u001b[39m_mf6 \u001b[38;5;241m=\u001b[39m ModflowApi(\n\u001b[0;32m     52\u001b[0m     dll,\n\u001b[0;32m     53\u001b[0m     working_directory\u001b[38;5;241m=\u001b[39msim_path,\n\u001b[0;32m     54\u001b[0m )\n\u001b[0;32m     55\u001b[0m \u001b[38;5;28mself\u001b[39m\u001b[38;5;241m.\u001b[39m_mf6\u001b[38;5;241m.\u001b[39minitialize()\n\u001b[1;32m---> 56\u001b[0m \u001b[38;5;28mself\u001b[39m\u001b[38;5;241m.\u001b[39mapi \u001b[38;5;241m=\u001b[39m \u001b[43mApiSimulation\u001b[49m\u001b[38;5;241;43m.\u001b[39;49m\u001b[43mload\u001b[49m\u001b[43m(\u001b[49m\u001b[38;5;28;43mself\u001b[39;49m\u001b[38;5;241;43m.\u001b[39;49m\u001b[43m_mf6\u001b[49m\u001b[43m)\u001b[49m\n\u001b[0;32m     57\u001b[0m \u001b[38;5;28mself\u001b[39m\u001b[38;5;241m.\u001b[39m_sim_grp \u001b[38;5;241m=\u001b[39m \u001b[38;5;28;01mNone\u001b[39;00m\n",
      "File \u001b[1;32mC:\\TUBAF\\mambaforge\\envs\\pymf6\\lib\\site-packages\\modflowapi\\extensions\\apisimulation.py:295\u001b[0m, in \u001b[0;36mApiSimulation.load\u001b[1;34m(mf6)\u001b[0m\n\u001b[0;32m    293\u001b[0m models \u001b[38;5;241m=\u001b[39m {}\n\u001b[0;32m    294\u001b[0m \u001b[38;5;28;01mfor\u001b[39;00m name \u001b[38;5;129;01min\u001b[39;00m model_names:\n\u001b[1;32m--> 295\u001b[0m     models[name\u001b[38;5;241m.\u001b[39mlower()] \u001b[38;5;241m=\u001b[39m \u001b[43mApiModel\u001b[49m\u001b[43m(\u001b[49m\u001b[43mmf6\u001b[49m\u001b[43m,\u001b[49m\u001b[43m \u001b[49m\u001b[43mname\u001b[49m\u001b[43m)\u001b[49m\n\u001b[0;32m    297\u001b[0m solution_names \u001b[38;5;241m=\u001b[39m []\n\u001b[0;32m    298\u001b[0m \u001b[38;5;28;01mfor\u001b[39;00m variable \u001b[38;5;129;01min\u001b[39;00m variables:\n",
      "File \u001b[1;32mC:\\TUBAF\\mambaforge\\envs\\pymf6\\lib\\site-packages\\modflowapi\\extensions\\apimodel.py:182\u001b[0m, in \u001b[0;36mApiModel.__init__\u001b[1;34m(self, mf6, name)\u001b[0m\n\u001b[0;32m    179\u001b[0m \u001b[38;5;28mself\u001b[39m\u001b[38;5;241m.\u001b[39m_usertonode \u001b[38;5;241m=\u001b[39m \u001b[38;5;28;01mNone\u001b[39;00m\n\u001b[0;32m    180\u001b[0m \u001b[38;5;28mself\u001b[39m\u001b[38;5;241m.\u001b[39m_iteration \u001b[38;5;241m=\u001b[39m \u001b[38;5;241m0\u001b[39m\n\u001b[1;32m--> 182\u001b[0m \u001b[38;5;28;43msuper\u001b[39;49m\u001b[43m(\u001b[49m\u001b[43m)\u001b[49m\u001b[38;5;241;43m.\u001b[39;49m\u001b[38;5;21;43m__init__\u001b[39;49m\u001b[43m(\u001b[49m\u001b[43mmf6\u001b[49m\u001b[43m,\u001b[49m\u001b[43m \u001b[49m\u001b[43mname\u001b[49m\u001b[43m,\u001b[49m\u001b[43m \u001b[49m\u001b[43mpkg_types\u001b[49m\u001b[43m)\u001b[49m\n",
      "File \u001b[1;32mC:\\TUBAF\\mambaforge\\envs\\pymf6\\lib\\site-packages\\modflowapi\\extensions\\apimodel.py:40\u001b[0m, in \u001b[0;36mApiMbase.__init__\u001b[1;34m(self, mf6, name, pkg_types)\u001b[0m\n\u001b[0;32m     38\u001b[0m \u001b[38;5;28mself\u001b[39m\u001b[38;5;241m.\u001b[39mpkg_types \u001b[38;5;241m=\u001b[39m pkg_types\n\u001b[0;32m     39\u001b[0m \u001b[38;5;28mself\u001b[39m\u001b[38;5;241m.\u001b[39mpackage_dict \u001b[38;5;241m=\u001b[39m {}\n\u001b[1;32m---> 40\u001b[0m \u001b[38;5;28;43mself\u001b[39;49m\u001b[38;5;241;43m.\u001b[39;49m\u001b[43m_set_package_names\u001b[49m\u001b[43m(\u001b[49m\u001b[43m)\u001b[49m\n\u001b[0;32m     41\u001b[0m \u001b[38;5;28mself\u001b[39m\u001b[38;5;241m.\u001b[39m_create_package_list()\n",
      "File \u001b[1;32mC:\\TUBAF\\mambaforge\\envs\\pymf6\\lib\\site-packages\\modflowapi\\extensions\\apimodel.py:69\u001b[0m, in \u001b[0;36mApiMbase._set_package_names\u001b[1;34m(self)\u001b[0m\n\u001b[0;32m     67\u001b[0m tmp \u001b[38;5;241m=\u001b[39m addr\u001b[38;5;241m.\u001b[39msplit(\u001b[38;5;124m\"\u001b[39m\u001b[38;5;124m/\u001b[39m\u001b[38;5;124m\"\u001b[39m)\n\u001b[0;32m     68\u001b[0m \u001b[38;5;28;01mif\u001b[39;00m addr\u001b[38;5;241m.\u001b[39mendswith(\u001b[38;5;124m\"\u001b[39m\u001b[38;5;124mPACKAGE_TYPE\u001b[39m\u001b[38;5;124m\"\u001b[39m) \u001b[38;5;129;01mand\u001b[39;00m tmp[\u001b[38;5;241m0\u001b[39m] \u001b[38;5;241m==\u001b[39m \u001b[38;5;28mself\u001b[39m\u001b[38;5;241m.\u001b[39mname:\n\u001b[1;32m---> 69\u001b[0m     pak_types[tmp[\u001b[38;5;241m1\u001b[39m]] \u001b[38;5;241m=\u001b[39m \u001b[38;5;28;43mself\u001b[39;49m\u001b[38;5;241;43m.\u001b[39;49m\u001b[43mmf6\u001b[49m\u001b[38;5;241;43m.\u001b[39;49m\u001b[43mget_value\u001b[49m\u001b[43m(\u001b[49m\u001b[43maddr\u001b[49m\u001b[43m)\u001b[49m[\u001b[38;5;241m0\u001b[39m]\n\u001b[0;32m     70\u001b[0m \u001b[38;5;28;01melif\u001b[39;00m tmp[\u001b[38;5;241m0\u001b[39m] \u001b[38;5;241m==\u001b[39m \u001b[38;5;28mself\u001b[39m\u001b[38;5;241m.\u001b[39mname \u001b[38;5;129;01mand\u001b[39;00m \u001b[38;5;28mlen\u001b[39m(tmp) \u001b[38;5;241m==\u001b[39m \u001b[38;5;241m2\u001b[39m:\n\u001b[0;32m     71\u001b[0m     \u001b[38;5;28;01mif\u001b[39;00m tmp[\u001b[38;5;241m0\u001b[39m]\u001b[38;5;241m.\u001b[39mstartswith(\u001b[38;5;124m\"\u001b[39m\u001b[38;5;124mGWF-GWF\u001b[39m\u001b[38;5;124m\"\u001b[39m):\n",
      "File \u001b[1;32mC:\\TUBAF\\mambaforge\\envs\\pymf6\\lib\\site-packages\\xmipy\\xmiwrapper.py:294\u001b[0m, in \u001b[0;36mXmiWrapper.get_value\u001b[1;34m(self, name, dest)\u001b[0m\n\u001b[0;32m    292\u001b[0m rank \u001b[38;5;241m=\u001b[39m \u001b[38;5;28mself\u001b[39m\u001b[38;5;241m.\u001b[39mget_var_rank(name)\n\u001b[0;32m    293\u001b[0m \u001b[38;5;28;01mif\u001b[39;00m rank \u001b[38;5;241m==\u001b[39m \u001b[38;5;241m0\u001b[39m:\n\u001b[1;32m--> 294\u001b[0m     src \u001b[38;5;241m=\u001b[39m \u001b[38;5;28;43mself\u001b[39;49m\u001b[38;5;241;43m.\u001b[39;49m\u001b[43mget_value_ptr_scalar\u001b[49m\u001b[43m(\u001b[49m\u001b[43mname\u001b[49m\u001b[43m)\u001b[49m\n\u001b[0;32m    295\u001b[0m     \u001b[38;5;28;01mif\u001b[39;00m dest \u001b[38;5;129;01mis\u001b[39;00m \u001b[38;5;28;01mNone\u001b[39;00m:\n\u001b[0;32m    296\u001b[0m         \u001b[38;5;28;01mreturn\u001b[39;00m \u001b[38;5;28mself\u001b[39m\u001b[38;5;241m.\u001b[39mget_value_ptr_scalar(name)\u001b[38;5;241m.\u001b[39mcopy()\n",
      "File \u001b[1;32mC:\\TUBAF\\mambaforge\\envs\\pymf6\\lib\\site-packages\\xmipy\\xmiwrapper.py:415\u001b[0m, in \u001b[0;36mXmiWrapper.get_value_ptr_scalar\u001b[1;34m(self, name)\u001b[0m\n\u001b[0;32m    408\u001b[0m     \u001b[38;5;28mself\u001b[39m\u001b[38;5;241m.\u001b[39mexecute_function(\n\u001b[0;32m    409\u001b[0m         \u001b[38;5;28mself\u001b[39m\u001b[38;5;241m.\u001b[39mlib\u001b[38;5;241m.\u001b[39mget_value_ptr_int,\n\u001b[0;32m    410\u001b[0m         c_char_p(name\u001b[38;5;241m.\u001b[39mencode()),\n\u001b[0;32m    411\u001b[0m         byref(values),\n\u001b[0;32m    412\u001b[0m         detail\u001b[38;5;241m=\u001b[39m\u001b[38;5;124m\"\u001b[39m\u001b[38;5;124mfor variable \u001b[39m\u001b[38;5;124m\"\u001b[39m \u001b[38;5;241m+\u001b[39m name,\n\u001b[0;32m    413\u001b[0m     )\n\u001b[0;32m    414\u001b[0m \u001b[38;5;28;01melse\u001b[39;00m:\n\u001b[1;32m--> 415\u001b[0m     \u001b[38;5;28;01mraise\u001b[39;00m InputError(\u001b[38;5;124m\"\u001b[39m\u001b[38;5;124mUnsupported value type\u001b[39m\u001b[38;5;124m\"\u001b[39m)\n\u001b[0;32m    417\u001b[0m \u001b[38;5;28;01mreturn\u001b[39;00m values\u001b[38;5;241m.\u001b[39mcontents\n",
      "\u001b[1;31mInputError\u001b[0m: Unsupported value type"
     ]
    }
   ],
   "source": [
    "def run_model(nam_file):\n",
    "    mf6 = MF6(nam_file=nam_file)\n",
    "    tolerance = 0.01\n",
    "    head_limit = 0.5\n",
    "    lower_limit = head_limit - tolerance\n",
    "    upper_limit = head_limit + tolerance\n",
    "    been_below = False\n",
    "    wel_coords=(0, 4, 4)\n",
    "    for sim, state in mf6.loop:\n",
    "        if state == States.timestep_start:\n",
    "            ml = sim.get_model()\n",
    "            if ml.kper == 2:\n",
    "                pumping = ml.wel.stress_period_data[\"flux\"]\n",
    "                wel_head = ml.X.__getitem__(wel_coords)\n",
    "                wel_bc = ml.wel.stress_period_data\n",
    "                if wel_head <= lower_limit:\n",
    "                    wel_bc[\"flux\"] = pumping * 0.9\n",
    "                    been_below = True\n",
    "                elif been_below and wel_head >= upper_limit:\n",
    "                    wel_bc[\"flux\"] = pumping * 1.1\n",
    "\n",
    "if __name__ == '__main__':\n",
    "    run_model(r'C:/TUBAF/MODSIMPLE2/pymf6tools/tests/models/example_1/mfsim.nam')\n",
    "    print('done')\n"
   ]
  },
  {
   "cell_type": "code",
   "execution_count": null,
   "id": "ea933fbd-6c99-4509-976d-3280637dfae5",
   "metadata": {},
   "outputs": [],
   "source": [
    "nam"
   ]
  },
  {
   "cell_type": "code",
   "execution_count": null,
   "id": "2d0ed416-df00-426b-9711-51d8a26978d0",
   "metadata": {},
   "outputs": [],
   "source": []
  }
 ],
 "metadata": {
  "kernelspec": {
   "display_name": "Python 3 (ipykernel)",
   "language": "python",
   "name": "python3"
  },
  "language_info": {
   "codemirror_mode": {
    "name": "ipython",
    "version": 3
   },
   "file_extension": ".py",
   "mimetype": "text/x-python",
   "name": "python",
   "nbconvert_exporter": "python",
   "pygments_lexer": "ipython3",
   "version": "3.10.9"
  }
 },
 "nbformat": 4,
 "nbformat_minor": 5
}
