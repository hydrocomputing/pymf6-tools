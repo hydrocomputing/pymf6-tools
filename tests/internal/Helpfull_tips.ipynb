{
 "cells": [
  {
   "cell_type": "code",
   "execution_count": 1,
   "id": "432a97d9-eb0a-4cb7-858d-8bb95bfb06ee",
   "metadata": {
    "tags": []
   },
   "outputs": [],
   "source": [
    "# helpful tips "
   ]
  },
  {
   "cell_type": "code",
   "execution_count": null,
   "id": "be353837-4fa6-4922-a851-d696c36910f3",
   "metadata": {},
   "outputs": [],
   "source": [
    "# import pacakges to inspect further \n",
    "sim = get_simulation(model_path, model_name)\n",
    "ml = sim.get_model(model_name)\n",
    "riv = ml.get_package('riv')"
   ]
  }
 ],
 "metadata": {
  "kernelspec": {
   "display_name": "Python 3 (ipykernel)",
   "language": "python",
   "name": "python3"
  },
  "language_info": {
   "codemirror_mode": {
    "name": "ipython",
    "version": 3
   },
   "file_extension": ".py",
   "mimetype": "text/x-python",
   "name": "python",
   "nbconvert_exporter": "python",
   "pygments_lexer": "ipython3",
   "version": "3.11.4"
  }
 },
 "nbformat": 4,
 "nbformat_minor": 5
}
