{
 "cells": [
  {
   "cell_type": "code",
   "execution_count": 1,
   "id": "432a97d9-eb0a-4cb7-858d-8bb95bfb06ee",
   "metadata": {
    "tags": []
   },
   "outputs": [],
   "source": [
    "# helpful tips "
   ]
  },
  {
   "cell_type": "code",
   "execution_count": 1,
   "id": "be353837-4fa6-4922-a851-d696c36910f3",
   "metadata": {},
   "outputs": [
    {
     "ename": "NameError",
     "evalue": "name 'get_simulation' is not defined",
     "output_type": "error",
     "traceback": [
      "\u001b[1;31m---------------------------------------------------------------------------\u001b[0m",
      "\u001b[1;31mNameError\u001b[0m                                 Traceback (most recent call last)",
      "Cell \u001b[1;32mIn[1], line 2\u001b[0m\n\u001b[0;32m      1\u001b[0m \u001b[38;5;66;03m# import pacakges to inspect further \u001b[39;00m\n\u001b[1;32m----> 2\u001b[0m sim \u001b[38;5;241m=\u001b[39m \u001b[43mget_simulation\u001b[49m(model_path, model_name)\n\u001b[0;32m      3\u001b[0m ml \u001b[38;5;241m=\u001b[39m sim\u001b[38;5;241m.\u001b[39mget_model(model_name)\n\u001b[0;32m      4\u001b[0m riv \u001b[38;5;241m=\u001b[39m ml\u001b[38;5;241m.\u001b[39mget_package(\u001b[38;5;124m'\u001b[39m\u001b[38;5;124mriv\u001b[39m\u001b[38;5;124m'\u001b[39m)\n",
      "\u001b[1;31mNameError\u001b[0m: name 'get_simulation' is not defined"
     ]
    }
   ],
   "source": [
    "# import pacakges to inspect further \n",
    "sim = get_simulation(model_path, model_name)\n",
    "ml = sim.get_model(model_name)\n",
    "riv = ml.get_package('riv')"
   ]
  },
  {
   "cell_type": "code",
   "execution_count": 2,
   "id": "45c4e795-379e-42c8-bd62-6c7f980ab3f7",
   "metadata": {
    "tags": []
   },
   "outputs": [],
   "source": [
    "# inspect methods to withdraw outputs"
   ]
  },
  {
   "cell_type": "code",
   "execution_count": null,
   "id": "8747e53a-e9f7-44f6-9256-2829fb20e09e",
   "metadata": {},
   "outputs": [],
   "source": [
    "print(ml.wel.output.methods())"
   ]
  }
 ],
 "metadata": {
  "kernelspec": {
   "display_name": "Python 3 (ipykernel)",
   "language": "python",
   "name": "python3"
  },
  "language_info": {
   "codemirror_mode": {
    "name": "ipython",
    "version": 3
   },
   "file_extension": ".py",
   "mimetype": "text/x-python",
   "name": "python",
   "nbconvert_exporter": "python",
   "pygments_lexer": "ipython3",
   "version": "3.10.9"
  }
 },
 "nbformat": 4,
 "nbformat_minor": 5
}
