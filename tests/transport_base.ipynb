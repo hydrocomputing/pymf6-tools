{
 "cells": [
  {
   "cell_type": "code",
   "execution_count": 1,
   "id": "a3bb2016-d24d-43fb-bcf9-39fd447d10cb",
   "metadata": {},
   "outputs": [],
   "source": [
    "%load_ext autoreload"
   ]
  },
  {
   "cell_type": "code",
   "execution_count": 2,
   "id": "27711f9f-f4fa-4cfc-ad1a-c02e7e368418",
   "metadata": {
    "tags": []
   },
   "outputs": [],
   "source": [
    "%autoreload 2"
   ]
  },
  {
   "cell_type": "code",
   "execution_count": 3,
   "id": "df201042-e521-4327-a94b-246ce7199d53",
   "metadata": {
    "tags": []
   },
   "outputs": [],
   "source": [
    "from pymf6tools.make_model import run_simulation"
   ]
  },
  {
   "cell_type": "code",
   "execution_count": 4,
   "id": "349fc5fb-e54c-4134-bf17-ae8164b52f52",
   "metadata": {
    "tags": []
   },
   "outputs": [],
   "source": [
    "from pymf6tools.plotting import show_heads, show_well_head, show_concentration, show_bcs, contour_well_heads "
   ]
  },
  {
   "cell_type": "code",
   "execution_count": 5,
   "id": "fc79bc0a-6e7a-4b4d-973c-674643f1fc2c",
   "metadata": {
    "tags": []
   },
   "outputs": [],
   "source": [
    "from pymf6tools.base_model import BASE_MODEL_DATA, BASE_TRANSPORT_MODEL_DATA, BASE_WELL_MODEL_DATA"
   ]
  },
  {
   "cell_type": "code",
   "execution_count": 6,
   "id": "607766f1-a230-449f-a784-39c1541b329a",
   "metadata": {
    "tags": []
   },
   "outputs": [],
   "source": [
    "#set model path \n",
    "model_path = r'models/transport_base'\n",
    "model_name = 'transbase'\n",
    "#well_coords = BASE_WELL_MODEL_DATA['wells']['coords']"
   ]
  },
  {
   "cell_type": "code",
   "execution_count": 7,
   "id": "0fe82fb8-bb10-48f6-b88b-76539260f1d3",
   "metadata": {
    "tags": []
   },
   "outputs": [
    {
     "ename": "MFDataException",
     "evalue": "An error occurred in package \"None\". The error occurred while loading package file in the \"load\" method.\nAdditional Information:\n(1) File /Users/mike/Dev/pymf6tools/tests/models/transbase/mfsim.nam of type nam could not be opened.",
     "output_type": "error",
     "traceback": [
      "\u001b[0;31m---------------------------------------------------------------------------\u001b[0m",
      "\u001b[0;31mFileNotFoundError\u001b[0m                         Traceback (most recent call last)",
      "File \u001b[0;32m~/mambaforge/envs/pymf6_dev/lib/python3.11/site-packages/flopy/mf6/mfpackage.py:2648\u001b[0m, in \u001b[0;36mMFPackage.load\u001b[0;34m(self, strict)\u001b[0m\n\u001b[1;32m   2647\u001b[0m \u001b[38;5;28;01mtry\u001b[39;00m:\n\u001b[0;32m-> 2648\u001b[0m     fd_input_file \u001b[38;5;241m=\u001b[39m \u001b[38;5;28;43mopen\u001b[39;49m\u001b[43m(\u001b[49m\n\u001b[1;32m   2649\u001b[0m \u001b[43m        \u001b[49m\u001b[43mdatautil\u001b[49m\u001b[38;5;241;43m.\u001b[39;49m\u001b[43mclean_filename\u001b[49m\u001b[43m(\u001b[49m\u001b[38;5;28;43mself\u001b[39;49m\u001b[38;5;241;43m.\u001b[39;49m\u001b[43mget_file_path\u001b[49m\u001b[43m(\u001b[49m\u001b[43m)\u001b[49m\u001b[43m)\u001b[49m\u001b[43m,\u001b[49m\u001b[43m \u001b[49m\u001b[38;5;124;43m\"\u001b[39;49m\u001b[38;5;124;43mr\u001b[39;49m\u001b[38;5;124;43m\"\u001b[39;49m\n\u001b[1;32m   2650\u001b[0m \u001b[43m    \u001b[49m\u001b[43m)\u001b[49m\n\u001b[1;32m   2651\u001b[0m \u001b[38;5;28;01mexcept\u001b[39;00m \u001b[38;5;167;01mOSError\u001b[39;00m \u001b[38;5;28;01mas\u001b[39;00m e:\n",
      "\u001b[0;31mFileNotFoundError\u001b[0m: [Errno 2] No such file or directory: '/Users/mike/Dev/pymf6tools/tests/models/transbase/mfsim.nam'",
      "\nDuring handling of the above exception, another exception occurred:\n",
      "\u001b[0;31mMFDataException\u001b[0m                           Traceback (most recent call last)",
      "Cell \u001b[0;32mIn[7], line 1\u001b[0m\n\u001b[0;32m----> 1\u001b[0m \u001b[43mrun_simulation\u001b[49m\u001b[43m(\u001b[49m\u001b[43mmodel_path\u001b[49m\u001b[43m)\u001b[49m\n",
      "File \u001b[0;32m~/Dev/pymf6tools/src/pymf6tools/make_model.py:327\u001b[0m, in \u001b[0;36mrun_simulation\u001b[0;34m(model_path, verbosity_level)\u001b[0m\n\u001b[1;32m    325\u001b[0m \u001b[38;5;28;01mdef\u001b[39;00m \u001b[38;5;21mrun_simulation\u001b[39m(model_path, verbosity_level\u001b[38;5;241m=\u001b[39m\u001b[38;5;241m0\u001b[39m):\n\u001b[1;32m    326\u001b[0m \u001b[38;5;250m    \u001b[39m\u001b[38;5;124;03m\"\"\"Run a MODFLOW 6 model\"\"\"\u001b[39;00m\n\u001b[0;32m--> 327\u001b[0m     sim \u001b[38;5;241m=\u001b[39m \u001b[43mget_simulation\u001b[49m\u001b[43m(\u001b[49m\n\u001b[1;32m    328\u001b[0m \u001b[43m        \u001b[49m\u001b[43mmodel_path\u001b[49m\u001b[43m,\u001b[49m\n\u001b[1;32m    329\u001b[0m \u001b[43m        \u001b[49m\u001b[43mverbosity_level\u001b[49m\u001b[38;5;241;43m=\u001b[39;49m\u001b[43mverbosity_level\u001b[49m\u001b[43m)\u001b[49m\n\u001b[1;32m    330\u001b[0m     sim\u001b[38;5;241m.\u001b[39mrun_simulation()\n\u001b[1;32m    331\u001b[0m     \u001b[38;5;28;01mreturn\u001b[39;00m sim\n",
      "File \u001b[0;32m~/Dev/pymf6tools/src/pymf6tools/make_model.py:317\u001b[0m, in \u001b[0;36mget_simulation\u001b[0;34m(model_path, exe_name, verbosity_level)\u001b[0m\n\u001b[1;32m    315\u001b[0m \u001b[38;5;250m\u001b[39m\u001b[38;5;124;03m\"\"\"Get simulation for a model.\"\"\"\u001b[39;00m\n\u001b[1;32m    316\u001b[0m exe_name \u001b[38;5;241m=\u001b[39m _get_mf6_exe(exe_name)\n\u001b[0;32m--> 317\u001b[0m sim \u001b[38;5;241m=\u001b[39m \u001b[43mflopy\u001b[49m\u001b[38;5;241;43m.\u001b[39;49m\u001b[43mmf6\u001b[49m\u001b[38;5;241;43m.\u001b[39;49m\u001b[43mMFSimulation\u001b[49m\u001b[38;5;241;43m.\u001b[39;49m\u001b[43mload\u001b[49m\u001b[43m(\u001b[49m\n\u001b[1;32m    318\u001b[0m \u001b[43m    \u001b[49m\u001b[43msim_ws\u001b[49m\u001b[38;5;241;43m=\u001b[39;49m\u001b[43mmodel_path\u001b[49m\u001b[43m,\u001b[49m\n\u001b[1;32m    319\u001b[0m \u001b[43m    \u001b[49m\u001b[43mexe_name\u001b[49m\u001b[38;5;241;43m=\u001b[39;49m\u001b[43mexe_name\u001b[49m\u001b[43m,\u001b[49m\n\u001b[1;32m    320\u001b[0m \u001b[43m    \u001b[49m\u001b[43mverbosity_level\u001b[49m\u001b[38;5;241;43m=\u001b[39;49m\u001b[43mverbosity_level\u001b[49m\u001b[43m,\u001b[49m\n\u001b[1;32m    321\u001b[0m \u001b[43m\u001b[49m\u001b[43m)\u001b[49m\n\u001b[1;32m    322\u001b[0m \u001b[38;5;28;01mreturn\u001b[39;00m sim\n",
      "File \u001b[0;32m~/mambaforge/envs/pymf6_dev/lib/python3.11/site-packages/flopy/mf6/modflow/mfsimulation.py:744\u001b[0m, in \u001b[0;36mMFSimulation.load\u001b[0;34m(cls, sim_name, version, exe_name, sim_ws, strict, verbosity_level, load_only, verify_data, write_headers, lazy_io)\u001b[0m\n\u001b[1;32m    742\u001b[0m \u001b[38;5;28;01mif\u001b[39;00m verbosity_level\u001b[38;5;241m.\u001b[39mvalue \u001b[38;5;241m>\u001b[39m\u001b[38;5;241m=\u001b[39m VerbosityLevel\u001b[38;5;241m.\u001b[39mnormal\u001b[38;5;241m.\u001b[39mvalue:\n\u001b[1;32m    743\u001b[0m     \u001b[38;5;28mprint\u001b[39m(\u001b[38;5;124m\"\u001b[39m\u001b[38;5;124m  loading simulation name file...\u001b[39m\u001b[38;5;124m\"\u001b[39m)\n\u001b[0;32m--> 744\u001b[0m \u001b[43minstance\u001b[49m\u001b[38;5;241;43m.\u001b[39;49m\u001b[43mname_file\u001b[49m\u001b[38;5;241;43m.\u001b[39;49m\u001b[43mload\u001b[49m\u001b[43m(\u001b[49m\u001b[43mstrict\u001b[49m\u001b[43m)\u001b[49m\n\u001b[1;32m    746\u001b[0m \u001b[38;5;66;03m# load TDIS file\u001b[39;00m\n\u001b[1;32m    747\u001b[0m tdis_pkg \u001b[38;5;241m=\u001b[39m \u001b[38;5;124mf\u001b[39m\u001b[38;5;124m\"\u001b[39m\u001b[38;5;124mtdis\u001b[39m\u001b[38;5;132;01m{\u001b[39;00mmfstructure\u001b[38;5;241m.\u001b[39mMFStructure()\u001b[38;5;241m.\u001b[39mget_version_string()\u001b[38;5;132;01m}\u001b[39;00m\u001b[38;5;124m\"\u001b[39m\n",
      "File \u001b[0;32m~/mambaforge/envs/pymf6_dev/lib/python3.11/site-packages/flopy/mf6/mfpackage.py:2657\u001b[0m, in \u001b[0;36mMFPackage.load\u001b[0;34m(self, strict)\u001b[0m\n\u001b[1;32m   2653\u001b[0m         message \u001b[38;5;241m=\u001b[39m \u001b[38;5;124m\"\u001b[39m\u001b[38;5;124mFile \u001b[39m\u001b[38;5;132;01m{}\u001b[39;00m\u001b[38;5;124m of type \u001b[39m\u001b[38;5;132;01m{}\u001b[39;00m\u001b[38;5;124m could not be opened.\u001b[39m\u001b[38;5;124m\"\u001b[39m\u001b[38;5;241m.\u001b[39mformat(\n\u001b[1;32m   2654\u001b[0m             \u001b[38;5;28mself\u001b[39m\u001b[38;5;241m.\u001b[39mget_file_path(), \u001b[38;5;28mself\u001b[39m\u001b[38;5;241m.\u001b[39mpackage_type\n\u001b[1;32m   2655\u001b[0m         )\n\u001b[1;32m   2656\u001b[0m         type_, value_, traceback_ \u001b[38;5;241m=\u001b[39m sys\u001b[38;5;241m.\u001b[39mexc_info()\n\u001b[0;32m-> 2657\u001b[0m         \u001b[38;5;28;01mraise\u001b[39;00m MFDataException(\n\u001b[1;32m   2658\u001b[0m             \u001b[38;5;28mself\u001b[39m\u001b[38;5;241m.\u001b[39mmodel_name,\n\u001b[1;32m   2659\u001b[0m             \u001b[38;5;28mself\u001b[39m\u001b[38;5;241m.\u001b[39mpackage_name,\n\u001b[1;32m   2660\u001b[0m             \u001b[38;5;28mself\u001b[39m\u001b[38;5;241m.\u001b[39mpath,\n\u001b[1;32m   2661\u001b[0m             \u001b[38;5;124m\"\u001b[39m\u001b[38;5;124mloading package file\u001b[39m\u001b[38;5;124m\"\u001b[39m,\n\u001b[1;32m   2662\u001b[0m             \u001b[38;5;28;01mNone\u001b[39;00m,\n\u001b[1;32m   2663\u001b[0m             inspect\u001b[38;5;241m.\u001b[39mstack()[\u001b[38;5;241m0\u001b[39m][\u001b[38;5;241m3\u001b[39m],\n\u001b[1;32m   2664\u001b[0m             type_,\n\u001b[1;32m   2665\u001b[0m             value_,\n\u001b[1;32m   2666\u001b[0m             traceback_,\n\u001b[1;32m   2667\u001b[0m             message,\n\u001b[1;32m   2668\u001b[0m             \u001b[38;5;28mself\u001b[39m\u001b[38;5;241m.\u001b[39m_simulation_data\u001b[38;5;241m.\u001b[39mdebug,\n\u001b[1;32m   2669\u001b[0m         )\n\u001b[1;32m   2671\u001b[0m \u001b[38;5;28;01mtry\u001b[39;00m:\n\u001b[1;32m   2672\u001b[0m     \u001b[38;5;28mself\u001b[39m\u001b[38;5;241m.\u001b[39m_load_blocks(fd_input_file, strict)\n",
      "\u001b[0;31mMFDataException\u001b[0m: An error occurred in package \"None\". The error occurred while loading package file in the \"load\" method.\nAdditional Information:\n(1) File /Users/mike/Dev/pymf6tools/tests/models/transbase/mfsim.nam of type nam could not be opened."
     ]
    }
   ],
   "source": [
    "run_simulation(model_path)"
   ]
  },
  {
   "cell_type": "code",
   "execution_count": null,
   "id": "8c39bf30-8739-4115-8999-882772ce8671",
   "metadata": {
    "tags": []
   },
   "outputs": [],
   "source": [
    "show_bcs(model_path, model_name, bc_names=('chd', 'wel'), show_grid=True)"
   ]
  },
  {
   "cell_type": "code",
   "execution_count": null,
   "id": "64edcb8b-492a-44dc-8169-3a6595fa0546",
   "metadata": {
    "tags": []
   },
   "outputs": [],
   "source": [
    "show_heads(model_path, model_name, show_wells=False)"
   ]
  },
  {
   "cell_type": "code",
   "execution_count": null,
   "id": "5981ca75-2185-4942-8242-c09c02653a8f",
   "metadata": {
    "tags": []
   },
   "outputs": [],
   "source": [
    "show_well_head?"
   ]
  },
  {
   "cell_type": "code",
   "execution_count": null,
   "id": "1f9e23d1-de3b-4e3d-82f4-d9b8139b3f4c",
   "metadata": {},
   "outputs": [],
   "source": [
    "contour_well_heads(model_path, model_name, title=\"Well heads contour\")"
   ]
  },
  {
   "cell_type": "code",
   "execution_count": null,
   "id": "8081fe7a-35d1-4f1c-8b0a-8a5579965295",
   "metadata": {},
   "outputs": [],
   "source": [
    "show_well_head((0, 4, 4), model_path, model_name, BASE_MODEL_DATA['times'], y_start=0, y_end=20)"
   ]
  },
  {
   "cell_type": "code",
   "execution_count": null,
   "id": "ceb67092-b8fa-4791-bb1f-fee556f390b1",
   "metadata": {},
   "outputs": [],
   "source": []
  }
 ],
 "metadata": {
  "kernelspec": {
   "display_name": "Python 3 (ipykernel)",
   "language": "python",
   "name": "python3"
  },
  "language_info": {
   "codemirror_mode": {
    "name": "ipython",
    "version": 3
   },
   "file_extension": ".py",
   "mimetype": "text/x-python",
   "name": "python",
   "nbconvert_exporter": "python",
   "pygments_lexer": "ipython3",
   "version": "3.11.4"
  }
 },
 "nbformat": 4,
 "nbformat_minor": 5
}
