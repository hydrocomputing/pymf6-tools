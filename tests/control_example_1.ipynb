{
 "cells": [
  {
   "cell_type": "markdown",
   "id": "c5944d6d-baf3-440b-91fc-86557183d23c",
   "metadata": {},
   "source": [
    "# Control script for example 1 "
   ]
  },
  {
   "cell_type": "markdown",
   "id": "7971ef6e-02e8-4bcf-b53b-a063a36d5f98",
   "metadata": {},
   "source": [
    "### Import all packages from pymf6 "
   ]
  },
  {
   "cell_type": "code",
   "execution_count": 1,
   "id": "c778afc6-e665-4ce2-84a2-9fef99fa0bb5",
   "metadata": {
    "tags": []
   },
   "outputs": [],
   "source": [
    "from pymf6.mf6 import MF6\n",
    "from pymf6.api import States\n",
    "import os \n",
    "from pathlib import Path "
   ]
  },
  {
   "cell_type": "code",
   "execution_count": 2,
   "id": "503b81b7-8de3-45e3-b4e9-57a20199f7e8",
   "metadata": {},
   "outputs": [],
   "source": [
    "from pymf6tools.plotting import show_well_head"
   ]
  },
  {
   "cell_type": "code",
   "execution_count": 3,
   "id": "d457d20d-ff4f-4692-b092-3aeff00f8819",
   "metadata": {
    "tags": []
   },
   "outputs": [
    {
     "data": {
      "text/plain": [
       "\u001b[1;31mInit signature:\u001b[0m\n",
       "\u001b[0mMF6\u001b[0m\u001b[1;33m(\u001b[0m\u001b[1;33m\n",
       "\u001b[0m    \u001b[0mnam_file\u001b[0m\u001b[1;33m=\u001b[0m\u001b[1;32mNone\u001b[0m\u001b[1;33m,\u001b[0m\u001b[1;33m\n",
       "\u001b[0m    \u001b[0msim_file\u001b[0m\u001b[1;33m=\u001b[0m\u001b[1;34m'mfsim.nam'\u001b[0m\u001b[1;33m,\u001b[0m\u001b[1;33m\n",
       "\u001b[0m    \u001b[0mdll_path\u001b[0m\u001b[1;33m=\u001b[0m\u001b[1;32mNone\u001b[0m\u001b[1;33m,\u001b[0m\u001b[1;33m\n",
       "\u001b[0m    \u001b[0muse_modflow_api\u001b[0m\u001b[1;33m=\u001b[0m\u001b[1;32mTrue\u001b[0m\u001b[1;33m,\u001b[0m\u001b[1;33m\n",
       "\u001b[0m    \u001b[0mverbose\u001b[0m\u001b[1;33m=\u001b[0m\u001b[1;32mFalse\u001b[0m\u001b[1;33m,\u001b[0m\u001b[1;33m\n",
       "\u001b[0m    \u001b[0m_develop\u001b[0m\u001b[1;33m=\u001b[0m\u001b[1;32mFalse\u001b[0m\u001b[1;33m,\u001b[0m\u001b[1;33m\n",
       "\u001b[0m\u001b[1;33m)\u001b[0m\u001b[1;33m\u001b[0m\u001b[1;33m\u001b[0m\u001b[0m\n",
       "\u001b[1;31mDocstring:\u001b[0m      Wrapper around XmiWrapper.\n",
       "\u001b[1;31mFile:\u001b[0m           c:\\tubaf\\modsimple2\\pymf6\\src\\pymf6\\mf6.py\n",
       "\u001b[1;31mType:\u001b[0m           type\n",
       "\u001b[1;31mSubclasses:\u001b[0m     "
      ]
     },
     "metadata": {},
     "output_type": "display_data"
    }
   ],
   "source": [
    "MF6?"
   ]
  },
  {
   "cell_type": "markdown",
   "id": "2e91ccc1-567e-472d-be40-b51c7137e3de",
   "metadata": {},
   "source": [
    "### Set model path and name "
   ]
  },
  {
   "cell_type": "code",
   "execution_count": 4,
   "id": "9d0dc919-c308-4d28-925f-7c48ed882767",
   "metadata": {
    "tags": []
   },
   "outputs": [
    {
     "name": "stdout",
     "output_type": "stream",
     "text": [
      "C:\\TUBAF\\MODSIMPLE2\\pymf6tools\\tests\\models\\example_1\n"
     ]
    },
    {
     "data": {
      "text/plain": [
       "WindowsPath('C:/TUBAF/MODSIMPLE2/pymf6tools/tests/models/example_1/mfsim.nam')"
      ]
     },
     "execution_count": 4,
     "metadata": {},
     "output_type": "execute_result"
    }
   ],
   "source": [
    "dir = os.getcwd()\n",
    "model_name = \"example_1\"\n",
    "model_path = os.path.abspath(os.path.join(dir, 'models', model_name))\n",
    "print(model_path)\n",
    "nam_file = Path(os.path.join(model_path, 'mfsim.nam'))\n",
    "nam_file"
   ]
  },
  {
   "cell_type": "markdown",
   "id": "4adf8ab8-42c2-4470-80a1-928495068ff9",
   "metadata": {},
   "source": [
    "### Description of the control "
   ]
  },
  {
   "cell_type": "markdown",
   "id": "dc2ec4d2-9224-42b8-b9aa-a762f9c9cc53",
   "metadata": {},
   "source": [
    "The pumping rate of the wells of the model are dynamically controlled by the groundwater level and the river stages.\n",
    "### Vital river water levels\n",
    "Vital river water levels are normally legislated by regional water management authorities. These organizations provide real-time data on the river levels and issue warnings in periods of flooding or low water levels. Further, the values also depend on the geometry of the river and local regulations. \n",
    "For the purpose of the demonstration, the minimum water level is 2,5 m. \n",
    "Keep in mind that is arbitrary value. "
   ]
  },
  {
   "cell_type": "markdown",
   "id": "08f5eb53-ee93-4876-ab19-5e27102be1c5",
   "metadata": {},
   "source": [
    "### Control script "
   ]
  },
  {
   "cell_type": "code",
   "execution_count": 5,
   "id": "6dd0c128-d6b2-42cc-9c58-2e850af8cd40",
   "metadata": {},
   "outputs": [
    {
     "name": "stdout",
     "output_type": "stream",
     "text": [
      "C:\\TUBAF\\MODSIMPLE2\\pymf6tools\\tests\\models\\example_1\\mfsim.nam\n",
      "NORMAL TERMINATION OF SIMULATION\n",
      "done\n"
     ]
    }
   ],
   "source": [
    "def run_model(nam_file):\n",
    "    print(nam_file)\n",
    "    # Initialize the MF6 model using the provided nam file \n",
    "    mf6 = MF6(nam_file=nam_file)\n",
    "\n",
    "    # Set tolerance and head limit values for control - groundwater and river threshold \n",
    "    tolerance = 0.01 # for the oscillation of the head for both thresholds  \n",
    "    gw_head_limit = 0.5 # fixed threshold according to regulations \n",
    "    riv_head_limit = 0.5 # fixed threshold according to regulations \n",
    "    \n",
    "    # limits for the groundwater \n",
    "    lower_limit_gw = gw_head_limit - tolerance\n",
    "    upper_limit_gw = gw_head_limit + tolerance\n",
    "\n",
    "    # limits for the river \n",
    "    lower_limit_riv = riv_head_limit - tolerance\n",
    "    upper_limit_riv = riv_head_limit + tolerance\n",
    "    \n",
    "    # Variable to track if the water level has been below the groundwater limits \n",
    "    been_below_gw = False\n",
    "\n",
    "    #Variable to track if the water level has been below the river threshold \n",
    "    been_below_riv = False  \n",
    "    \n",
    "    # List of wells with coordinates (layer, row, col)\n",
    "    well_coords_list = [(0, 8, 4), (0, 13, 8), (0, 3, 9), (0, 9, 9), (0, 12, 7) ,(0, 3, 4)]\n",
    "    \n",
    "    # Dictionary to store information about each well \n",
    "    wells_info = {coords: {'been_below': False} for coords in well_coords_list}\n",
    "    \n",
    "    # Main simulation loop \n",
    "    for sim, state in mf6.loop:\n",
    "        # Check if the start of a new time step \n",
    "        if state == States.timestep_start:\n",
    "            # Get the model object \n",
    "            ml = sim.get_model()\n",
    "            # Check if stress period (kper == 2)\n",
    "            if ml.kper == 2:\n",
    "                # Iteration over each well \n",
    "                for wel_coords, well_info in wells_info.items():\n",
    "                    # Retrieve pumping rate and well head information\n",
    "                    pumping = ml.wel.stress_period_data[\"flux\"]\n",
    "                    wel_head = ml.X.__getitem__(wel_coords)\n",
    "                    wel_bc = ml.wel.stress_period_data\n",
    "                    \n",
    "                    # Retrieve river stages \n",
    "                    river_stage = ml.riv.stress_period_data[\"stage\"]\n",
    "\n",
    "                    # maximum and miminum values of the river stages in the model \n",
    "                    max_river_stage = max(river_stage)\n",
    "                    min_river_stage = min(river_stage)\n",
    "\n",
    "                    # Difference betwen the maximum and minimum if the regulations are based on the diffrences of the water level instead of the water levels\n",
    "                    diff_river = max_river_stage - min_river_stage\n",
    "\n",
    "                    #Adjust pumping rate if the well head is below the lower limit \n",
    "                    if wel_head <= lower_limit_gw:\n",
    "                        wel_bc[\"flux\"] = pumping * 0.9\n",
    "                        been_below_gw = True\n",
    "                        \n",
    "                    # Adjust pumping rate if the well head is above the limit \n",
    "                    elif been_below_gw and wel_head >= upper_limit_gw:\n",
    "                        wel_bc[\"flux\"] = pumping * 1.1\n",
    "                    \n",
    "                    # Adjust pumping rate if the well head is below the river stage lower limit \n",
    "                    if diff_river <= lower_limit_riv:\n",
    "                        wel_bc[\"flux\"] = pumping * 0.9\n",
    "                        been_below_riv = True\n",
    "                        \n",
    "                    # Adjust pumping rate if the well head is above the limit \n",
    "                    elif been_below_riv and diff_river >= upper_limit_riv:\n",
    "                        wel_bc[\"flux\"] = pumping * 1.1\n",
    "                        \n",
    "\n",
    "if __name__ == '__main__':\n",
    "    run_model(nam_file)\n",
    "    print('done')"
   ]
  },
  {
   "cell_type": "code",
   "execution_count": 6,
   "id": "fa047434-92b5-4294-91d6-b7530704d5ee",
   "metadata": {},
   "outputs": [
    {
     "name": "stdout",
     "output_type": "stream",
     "text": [
      "<flopy.mf6.utils.output_util.MF6Output object at 0x0000029CA4EE7190>\n"
     ]
    },
    {
     "ename": "UFuncTypeError",
     "evalue": "ufunc 'multiply' did not contain a loop with signature matching types (dtype('int32'), dtype((numpy.record, [('node', '<i4'), ('node2', '<i4'), ('q', '<f8'), ('qx', '<f8'), ('qy', '<f8'), ('qz', '<f8')]))) -> None",
     "output_type": "error",
     "traceback": [
      "\u001b[1;31m---------------------------------------------------------------------------\u001b[0m",
      "\u001b[1;31mUFuncTypeError\u001b[0m                            Traceback (most recent call last)",
      "Cell \u001b[1;32mIn[6], line 2\u001b[0m\n\u001b[0;32m      1\u001b[0m \u001b[38;5;66;03m# needs modifications to aport all the wells \u001b[39;00m\n\u001b[1;32m----> 2\u001b[0m \u001b[43mshow_well_head\u001b[49m\u001b[43m(\u001b[49m\u001b[43mwel_coords\u001b[49m\u001b[38;5;241;43m=\u001b[39;49m\u001b[43m \u001b[49m\u001b[43m(\u001b[49m\u001b[38;5;241;43m0\u001b[39;49m\u001b[43m,\u001b[49m\u001b[43m \u001b[49m\u001b[38;5;241;43m8\u001b[39;49m\u001b[43m,\u001b[49m\u001b[43m \u001b[49m\u001b[38;5;241;43m4\u001b[39;49m\u001b[43m)\u001b[49m\u001b[43m,\u001b[49m\u001b[43m \u001b[49m\u001b[43mmodel_path\u001b[49m\u001b[38;5;241;43m=\u001b[39;49m\u001b[43mmodel_path\u001b[49m\u001b[43m,\u001b[49m\u001b[43m \u001b[49m\u001b[43mexe_model\u001b[49m\u001b[38;5;241;43m=\u001b[39;49m\u001b[38;5;28;43;01mNone\u001b[39;49;00m\u001b[43m,\u001b[49m\u001b[43m \u001b[49m\u001b[43mtimes\u001b[49m\u001b[38;5;241;43m=\u001b[39;49m\u001b[38;5;241;43m2\u001b[39;49m\u001b[43m)\u001b[49m\n",
      "File \u001b[1;32mC:\\TUBAF\\MODSIMPLE2\\pymf6tools\\src\\pymf6tools\\plotting.py:162\u001b[0m, in \u001b[0;36mshow_well_head\u001b[1;34m(wel_coords, model_path, exe_model, times, title, y_start, y_end, upper_head_limit, lower_head_limit, x)\u001b[0m\n\u001b[0;32m    160\u001b[0m x_stresses \u001b[38;5;241m=\u001b[39m []\n\u001b[0;32m    161\u001b[0m \u001b[38;5;28;01mfor\u001b[39;00m count \u001b[38;5;129;01min\u001b[39;00m \u001b[38;5;28mrange\u001b[39m(\u001b[38;5;241m1\u001b[39m, \u001b[38;5;28mlen\u001b[39m(time)):\n\u001b[1;32m--> 162\u001b[0m     start \u001b[38;5;241m=\u001b[39m \u001b[43mcount\u001b[49m\u001b[43m \u001b[49m\u001b[38;5;241;43m*\u001b[39;49m\u001b[43m \u001b[49m\u001b[43mtimes_diff\u001b[49m \u001b[38;5;241m+\u001b[39m \u001b[38;5;241m1\u001b[39m\n\u001b[0;32m    163\u001b[0m     x_stresses\u001b[38;5;241m.\u001b[39mappend((start, start))\n\u001b[0;32m    164\u001b[0m     x_stresses\u001b[38;5;241m.\u001b[39mappend(y_stress)\n",
      "\u001b[1;31mUFuncTypeError\u001b[0m: ufunc 'multiply' did not contain a loop with signature matching types (dtype('int32'), dtype((numpy.record, [('node', '<i4'), ('node2', '<i4'), ('q', '<f8'), ('qx', '<f8'), ('qy', '<f8'), ('qz', '<f8')]))) -> None"
     ]
    },
    {
     "data": {
      "image/png": "[encoded data removed]",
      "text/plain": [
       "<Figure size 640x480 with 1 Axes>"
      ]
     },
     "metadata": {},
     "output_type": "display_data"
    }
   ],
   "source": [
    "# needs modifications to aport all the wells \n",
    "show_well_head(wel_coords= (0, 8, 4), model_path=model_path, exe_model=None, times=2)"
   ]
  }
 ],
 "metadata": {
  "kernelspec": {
   "display_name": "Python 3 (ipykernel)",
   "language": "python",
   "name": "python3"
  },
  "language_info": {
   "codemirror_mode": {
    "name": "ipython",
    "version": 3
   },
   "file_extension": ".py",
   "mimetype": "text/x-python",
   "name": "python",
   "nbconvert_exporter": "python",
   "pygments_lexer": "ipython3",
   "version": "3.10.9"
  }
 },
 "nbformat": 4,
 "nbformat_minor": 5
}
